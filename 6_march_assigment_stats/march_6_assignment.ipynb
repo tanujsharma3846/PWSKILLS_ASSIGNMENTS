{
 "cells": [
  {
   "cell_type": "markdown",
   "id": "1c6fbe91-c6fe-43f0-9324-602ae7c1b0bb",
   "metadata": {},
   "source": [
    "# March 6 Assignment "
   ]
  },
  {
   "cell_type": "markdown",
   "id": "cce96b79-9b23-441a-9f42-3dcd97fd538e",
   "metadata": {},
   "source": [
    "### Q1. What is Statistics?"
   ]
  },
  {
   "cell_type": "code",
   "execution_count": 2,
   "id": "a1fea388-146c-47f2-8864-ce74ca8f11c5",
   "metadata": {},
   "outputs": [],
   "source": [
    "### statistics is the science of collecting, organizing and analyzing data.\n",
    "### uses of statistics \n",
    "### 1) it is used to get information from data\n",
    "### 2) it is used to have good qualities in a product \n",
    "### 3) it is used to innovate a product "
   ]
  },
  {
   "cell_type": "markdown",
   "id": "4b37ec6c-39ac-4276-be28-d3021b7c59ec",
   "metadata": {},
   "source": [
    "### Q2. Define the different types of statistics and give an example of when each type might be used."
   ]
  },
  {
   "cell_type": "code",
   "execution_count": null,
   "id": "8d5e0da6-5607-4ae2-a31a-696d2b7d7f7b",
   "metadata": {},
   "outputs": [],
   "source": [
    "# Descriptive Statistics\n",
    "# Descriptive statistics involve the use of numerical and graphical methods to summarize and describe the important characteristics of a dataset. \n",
    "# These methods include measures of central tendency, such as mean, median, and mode, measures of variability, such as range and standard deviation, and graphical displays, such as histograms and box plots.\n",
    "# Descriptive statistics are useful for understanding the patterns and distributions within a dataset, and are often used in data exploration and initial data analysis.\n",
    "\n",
    "# Inferential Statistics\n",
    "# Inferential statistics involve the use of statistical methods to make inferences or predictions about a larger population based on a smaller sample.\n",
    "# These methods include hypothesis testing, confidence intervals, and regression analysis. \n",
    "# Inferential statistics are useful for making generalizations about a population based on a sample, and are often used in scientific research and in business decision-making.\n",
    "\n",
    "# Here are some examples of when each type of statistics might be used:\n",
    "\n",
    "# Descriptive statistics might be used to summarize the grades of a group of students in a particular class, such as calculating the average grade or creating a histogram to show the distribution of grades.\n",
    "# Inferential statistics might be used to determine if there is a significant difference in the average grade between two different classes, or to make predictions about the future sales of a product based on past sales data."
   ]
  },
  {
   "cell_type": "markdown",
   "id": "da0e3dc2-c700-4699-9c08-a4afac2916b2",
   "metadata": {},
   "source": [
    "### Q3. What are the different types of data and how do they differ from each other? Provide an example of each type of data."
   ]
  },
  {
   "cell_type": "code",
   "execution_count": null,
   "id": "dd2fe365-0c9f-41e2-bcbf-ed601c61f9df",
   "metadata": {},
   "outputs": [],
   "source": [
    "#Qualitative Data: Qualitative data is non-numeric in nature and describes qualities or characteristics of a variable.\n",
    "# Qualitative data can be further divided into nominal and ordinal data.\n",
    "\n",
    "#Nominal Data: Nominal data is categorical data that does not have any inherent order or numerical value. \n",
    "#Examples include gender (male or female), eye color (blue, green, or brown), or type of fruit (apple, banana, or orange).\n",
    "\n",
    "# Ordinal Data: Ordinal data is categorical data that has an inherent order or rank.\n",
    "# Examples include education level (high school, college, or graduate school), income level (low, medium, or high), or letter grades (A, B, C, D, or F).\n",
    "\n",
    "# Quantitative Data: Quantitative data is numeric in nature and describes quantities or amounts of a variable\n",
    "# Quantitative data can be further divided into interval and ratio data.\n",
    "\n",
    "# Interval Data: Interval data is numeric data that has equal intervals between values, but does not have a true zero point. \n",
    "# Examples include temperature measured in Celsius or Fahrenheit, calendar dates, or IQ scores.\n",
    "# Ratio Data: Ratio data is numeric data that has equal intervals between values and a true zero point,\n",
    "# meaning that zero represents the absence of the variable being measured. Examples include height, weight, income, or time.\n",
    "# It is important to understand the type of data being analyzed, as this can affect the types of statistical analyses that can be performed on the data,\n",
    "# as well as the appropriate methods of summarizing and interpreting the data."
   ]
  },
  {
   "cell_type": "markdown",
   "id": "743c9da7-5635-459f-978b-617e9775904e",
   "metadata": {},
   "source": [
    "#### Q4. Categorise the following datasets with respect to quantitative and qualitative data types:\n",
    "#### (i) Grading in exam: A+, A, B+, B, C+, C, D, E\n",
    "#### (ii) Colour of mangoes: yellow, green, orange, red\n",
    "#### (iii) Height data of a class: [178.9, 179, 179.5, 176, 177.2, 178.3, 175.8,...]\n",
    "#### (iv) Number of mangoes exported by a farm: [500, 600, 478, 672, ...]"
   ]
  },
  {
   "cell_type": "code",
   "execution_count": 1,
   "id": "24bdb5ca-f71c-41cc-8cce-23b592e00fe3",
   "metadata": {},
   "outputs": [],
   "source": [
    "# (1)Qualitative ->ordinal\n",
    "# (2)Qualitative ->nominal\n",
    "# (3)Quantitative ->continuous\n",
    "# (4)Quantitative ->discrete"
   ]
  },
  {
   "cell_type": "markdown",
   "id": "80f27676-b382-4275-a9a7-e163439c507b",
   "metadata": {},
   "source": [
    "#### Q5. Explain the concept of levels of measurement and give an example of a variable for each level."
   ]
  },
  {
   "cell_type": "code",
   "execution_count": null,
   "id": "7c57ade8-7b7d-4ac7-9184-08b35c33dad5",
   "metadata": {},
   "outputs": [],
   "source": [
    "# Levels of measurement, also called scales of measurement, tell you how precisely variables are recorded.\n",
    "# In scientific research, a variable is anything that can take on different values across your data set (e.g., height or test scores).\n",
    "\n",
    "# There are 4 levels of measurement:\n",
    "\n",
    "# 1) Nominal: the data can only be categorized,order does not matter.\n",
    "# example: survey to find out favourite color of diffenrt people\n",
    "# 5 people choose red   -->50%\n",
    "# 3 people choose blue   ->30%\n",
    "# 2 people choose yellow- >20%\n",
    "# this will give us percentage of people voting for a particular color\n",
    "\n",
    "# 2) Ordinal: the data can be categorized and ranked. Ranking is important.Order matters. Differnce in values can be measured\n",
    "# example: different kinds of reviews given by users like we consider 3 reviews ->best,good,bad\n",
    "# here we can see that best is better than good and good is better than bad\n",
    "# Interval: the data can be categorized, ranked, and evenly spaced\n",
    "# Ratio: the data can be categorized, ranked, evenly spaced, and has a natural zero."
   ]
  },
  {
   "cell_type": "code",
   "execution_count": null,
   "id": "5ec89e17-46b1-494d-a687-a1f5b0fec5f8",
   "metadata": {},
   "outputs": [],
   "source": [
    "#Levels of measurement, also known as scales of measurement, refer to the different ways that data can be measured or classified. There are four main levels of measurement: nominal, ordinal, interval, and ratio.\n",
    "\n",
    "#Nominal: Nominal variables are categorical variables that can be identified by name or label, but do not have any inherent order or numerical value. \n",
    "# Examples of nominal variables include gender (male, female), eye color (blue, green, brown), or types of fruit (apple, banana, orange).\n",
    "\n",
    "#Ordinal: Ordinal variables can be ranked or ordered, but the difference between values is not meaningful or consistent. \n",
    "#Examples of ordinal variables include educational level (high school, college, graduate school), rating scales (poor, fair, good, excellent), or letter grades (A, B, C, D, F).\n",
    "\n",
    "#Interval: Interval variables have equal intervals between values, but do not have a true zero point.\n",
    "# Examples of interval variables include temperature measured in Celsius or Fahrenheit, dates measured on a calendar, or IQ scores.\n",
    "\n",
    "#Ratio: Ratio variables have equal intervals between values and a true zero point, meaning that zero represents the absence of the variable being measured. \n",
    "# Examples of ratio variables include weight, height, income, or time.\n",
    "\n",
    "#It is important to understand the level of measurement of a variable, as this can affect the types of statistical analyses that can be performed on the data, as well as the appropriate methods of summarizing and interpreting the data."
   ]
  },
  {
   "cell_type": "markdown",
   "id": "d7665c86-4038-41e5-add6-84c5b6fe8d40",
   "metadata": {},
   "source": [
    "#### Q6. Why is it important to understand the level of measurement when analyzing data? Provide an\n",
    "#### example to illustrate your answer."
   ]
  },
  {
   "cell_type": "code",
   "execution_count": null,
   "id": "6fe044ed-1786-4caa-a5fd-1db64be81ace",
   "metadata": {},
   "outputs": [],
   "source": [
    "# The level at which you measure a variable determines how you can analyze your data.\n",
    "\n",
    "# The different levels limit which descriptive statistics you can use to get an overall summary of your data, and which type of inferential statistics you can perform on your data to support or refute your hypothesis.\n",
    "\n",
    "# In many cases, your variables can be measured at different levels, so you have to choose the level of measurement you will use before data collection begins.\n",
    "\n",
    "# Example of a variable at 2 levels of measurement\n",
    "# You can measure the variable of income at an ordinal or ratio level.\n",
    "# Ordinal level: You create brackets of income ranges: $0–$19,999, $20,000–$39,999, and $40,000–$59,999.\n",
    "# You ask participants to select the bracket that represents their annual income. The brackets are coded with numbers from 1–3.\n",
    "# Ratio level: You collect data on the exact annual incomes of your participants.\n",
    "# Participant\tIncome (ordinal level)\tIncome (ratio level)\n",
    "# A\tBracket 1\t$12,550\n",
    "# B\tBracket 2\t$39,700\n",
    "# C\tBracket 3\t$40,300\n",
    "# At a ratio level, you can see that the difference between A and B’s incomes is far greater than the difference between B and C’s incomes.\n",
    "\n",
    "# At an ordinal level, however, you only know the income bracket for each participant, not their exact income.\n",
    "# Since you cannot say exactly how much each income differs from the others in your data set, you can only order the income levels and group the participants."
   ]
  },
  {
   "cell_type": "markdown",
   "id": "ef75dfd9-b74e-4cba-854c-873778b70513",
   "metadata": {},
   "source": [
    "### Q7. How nominal data type is different from ordinal data type."
   ]
  },
  {
   "cell_type": "code",
   "execution_count": null,
   "id": "1cd2bded-708e-40a2-98be-384ab14f2302",
   "metadata": {},
   "outputs": [],
   "source": [
    "#What is Nominal Data?\n",
    "#The term ‘nominal’ comes from the Latin word ‘nomen’ or ‘nominalis’, which means name. It is defined as the data type that is used for naming or labeling variables.\n",
    "\n",
    "# Classifies the data into named groups without any quantitative meaning.\n",
    "# i.e., it divides variables into mutually exclusive and labeled categories.\n",
    "# Statistical tests like chi-square goodness of fit and chi-square test of independence are used to analyze the nominal data.\n",
    "# Frequency distribution and mode are used to analyze nominal data.\n",
    "# Nominal variables can be coded with numerical values (arbitrary order), but they can’t be used for arithmetic operations.\n",
    "# Example:\n",
    "# Blood Type: A, B, O, AB\n",
    "# Sex: Male, Female\n",
    "# Marital Status: Single, Married, Divorced\n",
    "\n",
    "#What is Ordinal Data?\n",
    "#Ordinal Data classifies variables that have a natural order or rank.\n",
    "\n",
    "#Ordinal data can be presented in tabular and graphical format\n",
    "#Frequency distribution, mode, median, and range are used to analyze Ordinal Data.\n",
    "#Statistical tests like Spearman’s rho correlation test, mood’s median test, etc., are used to analyze the data.\n",
    "#Example:\n",
    "#Grades: A, B, C, D, F\n",
    "#Rating: Worst, Poor, Neutral, Good, Excellent\n",
    "#Income Group: High, Medium, Low\n",
    "#Education: 12th, Graduate, Post-Graduate, PhD\n",
    "\n",
    "#Key Difference between Nominal and Ordinal Data\n",
    "#Nominal data is a group of non-parametric variables, whereas Ordinal data is a group of non-parametric ordered variables.\n",
    "#Ordinal data is analyzed by mode, median, quartiles, and percentile, whereas nominal data is analyzed by grouping variables into categories and calculating the distribution mode.\n",
    "#Nominal data are categorical, whereas Ordinal data are both categorical and quantitative.\n",
    "##Both nominal and ordinal data can be analyzed using percentage and mode."
   ]
  },
  {
   "cell_type": "markdown",
   "id": "d7f50de0-3547-453e-9c1d-fe9be1512f3b",
   "metadata": {},
   "source": [
    "### Q8. Which type of plot can be used to display data in terms of range?"
   ]
  },
  {
   "cell_type": "code",
   "execution_count": null,
   "id": "c20ab5cb-9cd1-4386-910d-d158b2eac6a3",
   "metadata": {},
   "outputs": [],
   "source": [
    "#A box plot or box-and-whisker plot is a commonly used plot for displaying data in terms of range.\n",
    "#The box plot provides a visual representation of the minimum value, first quartile, median, third quartile, and maximum value of a dataset.\n",
    "#The box itself represents the interquartile range (IQR), which is the range of values between the first and third quartiles.\n",
    "#The whiskers extend from the box to show the range of data that falls within a certain distance of the quartiles (often 1.5 times the IQR).\n",
    "#Any data points that fall outside of the whiskers are considered outliers and are plotted as individual points.\n",
    "#The box plot is useful for identifying the spread and distribution of a dataset, as well as any potential outliers or unusual values."
   ]
  },
  {
   "cell_type": "markdown",
   "id": "aa03d258-4bd1-4d6c-8892-a21d7a52f518",
   "metadata": {},
   "source": [
    "### Q9. Describe the difference between descriptive and inferential statistics. Give an example of each type of statistics and explain how they are used."
   ]
  },
  {
   "cell_type": "code",
   "execution_count": null,
   "id": "16005809-fd8a-4dab-8b43-ca890a71f55c",
   "metadata": {},
   "outputs": [],
   "source": [
    " \n",
    "# Given below are the key points of difference in descriptive vs inferential statistics.     \n",
    "\n",
    "#point 1\n",
    "# Statistics gives information about raw data regarding its description or features.\n",
    "#Inferential statistics, on the other hand, draw inferences about the population by using data extracted from the population. \n",
    "\n",
    "#point 2\n",
    "#We use descriptive statistics to describe a situation, while we use inferential statistics to explain the probability of occurrence of an event. \n",
    "\n",
    "#point 3\n",
    "#As for descriptive statistics, it helps to organize, analyze and present data in a meaningful manner. \n",
    "# Inferential statistics helps to compare data, make hypotheses and predictions. \n",
    "\n",
    "#point 4\n",
    "#Descriptive statistics explains already known data related to a particular sample or population of a small size. \n",
    "#Inferential statistics, however, aims to draw inferences or conclusions about a whole population. \n",
    "\n",
    "#point 5\n",
    "# We use charts, graphs, and tables to represent descriptive statistics, while we use probability methods for inferential statistics.\n",
    "\n",
    "#point 6\n",
    "#It is simpler to perform a study using descriptive statistics rather than inferential statistics, \n",
    "#where you need to establish a relationship between variables in an entire population. "
   ]
  },
  {
   "cell_type": "markdown",
   "id": "7233f2b9-2436-4e08-8158-1bb7ac71c422",
   "metadata": {},
   "source": [
    "### Q10. What are some common measures of central tendency and variability used in statistics? Explain\n",
    "### how each measure can be used to describe a dataset."
   ]
  },
  {
   "cell_type": "code",
   "execution_count": null,
   "id": "1cd122c7-653e-4d0b-9f72-7b2abf7a76f2",
   "metadata": {},
   "outputs": [],
   "source": [
    "#Measures of central tendency are the values that describe a data set by identifying the central position of the data.\n",
    "#There are 3 main measures of central tendency - Mean, Median and Mode.\n",
    "\n",
    "#Mean- Sum of all observations divided by the total number of observations.\n",
    "#Median- The middle or central value in an ordered set.\n",
    "#Mode- The most frequently occurring value in a data set.\n",
    "\n",
    "#Let us understand the concept of the measures of central tendency using an example. \n",
    "#The monthly salary of an employee for the 5 months is given in the table below,\n",
    "\n",
    "#   Month\t    Salary\n",
    "#  January\t    $105\n",
    "#  February\t    $95\n",
    "#  March\t    $105\n",
    "#  April\t    $105\n",
    "#  May\t        $100\n",
    "#Suppose, we want to express the salary of the employee using a single value and not 5 different values for 5 months. \n",
    "# This value that can be used to represent the data for salaries for 5 months here can be referred to as the measure of central tendency. \n",
    "# The three possible ways to find the central measure of the tendency for the above data are,\n",
    "\n",
    "#Mean: The mean salary of the given salary can be used as on of the measures of central tendency, i.e., x̄ = (105 + 95 + 105 + 105 + 100)/5 = $102.\n",
    "\n",
    "#Mode: If we use the most frequently occurring value to represent the above data, i.e., $105, the measure of central tendency would be mode.\n",
    "\n",
    "#Median: If we use central value, i.e., $105 for the ordered set of salaries, given as, $95, $100, $105, $015, $105,measure of central tendency would be median."
   ]
  },
  {
   "cell_type": "code",
   "execution_count": null,
   "id": "456747eb-e63b-4895-a489-b328fb6a7a40",
   "metadata": {},
   "outputs": [],
   "source": [
    "# Measures of Variability: Range, Interquartile Range, Variance, and Standard Deviation\n",
    "\n",
    "#Variance\n",
    "#Variance is the average squared difference of the values from the mean.\n",
    "#Unlike the previous measures of variability, the variance includes all values in the calculation by comparing each value to the mean.\n",
    "#To calculate this statistic, you calculate a set of squared differences between the data points and the mean, sum them, and then divide by the number of observations.\n",
    "#Hence, it’s the average squared difference.\n",
    "\n",
    "#Standard Deviation\n",
    "#The standard deviation is the standard or typical difference between each data point and the mean.\n",
    "#When the values in a dataset are grouped closer together, you have a smaller standard deviation.\n",
    "#On the other hand, when the values are spread out more, the standard deviation is larger because the standard distance is greater."
   ]
  }
 ],
 "metadata": {
  "kernelspec": {
   "display_name": "Python 3 (ipykernel)",
   "language": "python",
   "name": "python3"
  },
  "language_info": {
   "codemirror_mode": {
    "name": "ipython",
    "version": 3
   },
   "file_extension": ".py",
   "mimetype": "text/x-python",
   "name": "python",
   "nbconvert_exporter": "python",
   "pygments_lexer": "ipython3",
   "version": "3.10.8"
  }
 },
 "nbformat": 4,
 "nbformat_minor": 5
}
