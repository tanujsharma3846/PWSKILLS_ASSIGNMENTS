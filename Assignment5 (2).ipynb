{
 "cells": [
  {
   "cell_type": "markdown",
   "id": "cc42f6d5-a80c-4379-856d-0ecbcbdf7fdf",
   "metadata": {},
   "source": [
    "# Assignment 5( 4 feb)"
   ]
  },
  {
   "cell_type": "markdown",
   "id": "ee196f73-3bf0-4812-b3b5-db352ab2ed88",
   "metadata": {},
   "source": [
    "### question1"
   ]
  },
  {
   "cell_type": "code",
   "execution_count": null,
   "id": "c6578f25-6825-424d-ada0-d48d1904bc4e",
   "metadata": {},
   "outputs": [],
   "source": [
    "# Q1. Create a python program to sort the given list of tuples based on integer value using a\n",
    "# lambda function.\n",
    "# [('Sachin Tendulkar', 34357), ('Ricky Ponting', 27483), ('Jack Kallis', 25534), ('Virat Kohli', 24936)]"
   ]
  },
  {
   "cell_type": "code",
   "execution_count": 30,
   "id": "7cd6d930-24b1-44e8-ab1d-2e8d986a3b82",
   "metadata": {},
   "outputs": [],
   "source": [
    "t=[('Sachin Tendulkar', 34357), ('Ricky Ponting', 27483), ('Jack Kallis', 25534), ('Virat Kohli', 24936)]"
   ]
  },
  {
   "cell_type": "code",
   "execution_count": 31,
   "id": "2ab36944-dbe2-4276-97cf-8e50ab574706",
   "metadata": {},
   "outputs": [
    {
     "data": {
      "text/plain": [
       "[('Sachin Tendulkar', 34357),\n",
       " ('Ricky Ponting', 27483),\n",
       " ('Jack Kallis', 25534),\n",
       " ('Virat Kohli', 24936)]"
      ]
     },
     "execution_count": 31,
     "metadata": {},
     "output_type": "execute_result"
    }
   ],
   "source": [
    "t"
   ]
  },
  {
   "cell_type": "code",
   "execution_count": 34,
   "id": "86e8af44-d82a-4d24-b380-4e3e5e06fa35",
   "metadata": {},
   "outputs": [],
   "source": [
    "t_sorted=sorted(t,key=lambda x:x[1])"
   ]
  },
  {
   "cell_type": "code",
   "execution_count": 35,
   "id": "1563f5f5-b453-4b6c-a388-c724fa2fa075",
   "metadata": {},
   "outputs": [
    {
     "data": {
      "text/plain": [
       "[('Virat Kohli', 24936),\n",
       " ('Jack Kallis', 25534),\n",
       " ('Ricky Ponting', 27483),\n",
       " ('Sachin Tendulkar', 34357)]"
      ]
     },
     "execution_count": 35,
     "metadata": {},
     "output_type": "execute_result"
    }
   ],
   "source": [
    "t_sorted"
   ]
  },
  {
   "cell_type": "markdown",
   "id": "926eec3a-724f-4113-86f6-b5add20b17a0",
   "metadata": {},
   "source": [
    "### question2"
   ]
  },
  {
   "cell_type": "code",
   "execution_count": null,
   "id": "e14ae60f-f5f6-4d39-81ef-653b6c9c2e2e",
   "metadata": {},
   "outputs": [],
   "source": [
    "# Q2. Write a Python Program to find the squares of all the numbers in the given list of integers using\n",
    "# lambda and map functions.\n",
    "# [1, 2, 3, 4, 5, 6, 7, 8, 9, 10]"
   ]
  },
  {
   "cell_type": "code",
   "execution_count": 3,
   "id": "0475fb6d-c67d-4b25-9263-05f6fa5f753d",
   "metadata": {},
   "outputs": [],
   "source": [
    "l=[1,2,3,4,5,6,7,8,9,10]"
   ]
  },
  {
   "cell_type": "code",
   "execution_count": 11,
   "id": "edf62004-6eff-483c-b7be-256ed4d65257",
   "metadata": {},
   "outputs": [
    {
     "data": {
      "text/plain": [
       "<map at 0x7f7030126890>"
      ]
     },
     "execution_count": 11,
     "metadata": {},
     "output_type": "execute_result"
    }
   ],
   "source": [
    "(map(lambda x:x**2,l))"
   ]
  },
  {
   "cell_type": "code",
   "execution_count": 12,
   "id": "ac43307b-b668-4e3c-981a-14602915369b",
   "metadata": {},
   "outputs": [
    {
     "data": {
      "text/plain": [
       "[1, 4, 9, 16, 25, 36, 49, 64, 81, 100]"
      ]
     },
     "execution_count": 12,
     "metadata": {},
     "output_type": "execute_result"
    }
   ],
   "source": [
    "list(map(lambda x: x**2,l))"
   ]
  },
  {
   "cell_type": "markdown",
   "id": "e4e72ca9-a3f5-498c-ad95-115359ae37ff",
   "metadata": {},
   "source": [
    "### question3"
   ]
  },
  {
   "cell_type": "code",
   "execution_count": null,
   "id": "276d73a4-610e-40a3-bc16-f5cb9f9a1b12",
   "metadata": {},
   "outputs": [],
   "source": [
    "# Q3. Write a python program to convert the given list of integers into a tuple of strings. Use map and\n",
    "# lambda functions\n",
    "# Given String: [1, 2, 3, 4, 5, 6, 7, 8, 9, 10]\n",
    "# Expected output: ('1', '2', '3', '4', '5', '6', '7', '8', '9', '10')"
   ]
  },
  {
   "cell_type": "code",
   "execution_count": 7,
   "id": "81a9a31e-ded3-43ae-a995-ff821bd3dee1",
   "metadata": {},
   "outputs": [],
   "source": [
    "l=[1, 2, 3, 4, 5, 6, 7, 8, 9, 10]"
   ]
  },
  {
   "cell_type": "code",
   "execution_count": 8,
   "id": "df30c94b-3ebe-4cda-a24d-2692fe14b16f",
   "metadata": {},
   "outputs": [
    {
     "data": {
      "text/plain": [
       "[1, 2, 3, 4, 5, 6, 7, 8, 9, 10]"
      ]
     },
     "execution_count": 8,
     "metadata": {},
     "output_type": "execute_result"
    }
   ],
   "source": [
    "l"
   ]
  },
  {
   "cell_type": "code",
   "execution_count": 9,
   "id": "670c6dbd-3fe0-4d01-b3f2-5b9ae88eba90",
   "metadata": {},
   "outputs": [],
   "source": [
    "result_list = list(map(str,l))"
   ]
  },
  {
   "cell_type": "code",
   "execution_count": 10,
   "id": "79328a80-7f48-461e-90f6-0d20f7497391",
   "metadata": {},
   "outputs": [
    {
     "data": {
      "text/plain": [
       "['1', '2', '3', '4', '5', '6', '7', '8', '9', '10']"
      ]
     },
     "execution_count": 10,
     "metadata": {},
     "output_type": "execute_result"
    }
   ],
   "source": [
    "result_list"
   ]
  },
  {
   "cell_type": "code",
   "execution_count": 11,
   "id": "75e46470-8eb4-42c4-8275-8de2620f5c1b",
   "metadata": {},
   "outputs": [],
   "source": [
    "tuple1=tuple(result_list)"
   ]
  },
  {
   "cell_type": "code",
   "execution_count": 12,
   "id": "24ba4d9e-972d-4bed-aea5-44629bdc4161",
   "metadata": {},
   "outputs": [
    {
     "data": {
      "text/plain": [
       "('1', '2', '3', '4', '5', '6', '7', '8', '9', '10')"
      ]
     },
     "execution_count": 12,
     "metadata": {},
     "output_type": "execute_result"
    }
   ],
   "source": [
    "tuple1"
   ]
  },
  {
   "cell_type": "markdown",
   "id": "1b777de6-db60-44ea-af2c-fea7650492da",
   "metadata": {},
   "source": [
    "### question4"
   ]
  },
  {
   "cell_type": "code",
   "execution_count": null,
   "id": "442a790e-3e09-45ac-9ae1-fd554a15ac15",
   "metadata": {},
   "outputs": [],
   "source": [
    "# Q4. Write a python program using reduce function to compute the product of a list containing numbers\n",
    "# from 1 to 25."
   ]
  },
  {
   "cell_type": "code",
   "execution_count": 16,
   "id": "dcbf8302-3ac0-4bf4-9ad7-e87cd29ff25e",
   "metadata": {},
   "outputs": [
    {
     "data": {
      "text/plain": [
       "[1,\n",
       " 2,\n",
       " 3,\n",
       " 4,\n",
       " 5,\n",
       " 6,\n",
       " 7,\n",
       " 8,\n",
       " 9,\n",
       " 10,\n",
       " 11,\n",
       " 12,\n",
       " 13,\n",
       " 14,\n",
       " 15,\n",
       " 16,\n",
       " 17,\n",
       " 18,\n",
       " 19,\n",
       " 20,\n",
       " 21,\n",
       " 22,\n",
       " 23,\n",
       " 24,\n",
       " 25]"
      ]
     },
     "execution_count": 16,
     "metadata": {},
     "output_type": "execute_result"
    }
   ],
   "source": [
    "l=[]\n",
    "for i in range(1,26):\n",
    "    l.append(i)\n",
    "l"
   ]
  },
  {
   "cell_type": "code",
   "execution_count": 18,
   "id": "9266688f-327b-458d-837d-9aed7a8263ce",
   "metadata": {},
   "outputs": [
    {
     "data": {
      "text/plain": [
       "15511210043330985984000000"
      ]
     },
     "execution_count": 18,
     "metadata": {},
     "output_type": "execute_result"
    }
   ],
   "source": [
    "from functools import reduce\n",
    "reduce(lambda x,y: x*y,l)"
   ]
  },
  {
   "cell_type": "markdown",
   "id": "f1904178-e40a-460f-9628-cb368fa01972",
   "metadata": {},
   "source": [
    "### question5"
   ]
  },
  {
   "cell_type": "code",
   "execution_count": null,
   "id": "8b14ce2c-1ee1-4e35-9b6d-c7334a2e4256",
   "metadata": {},
   "outputs": [],
   "source": [
    "# Q5. Write a python program to filter the numbers in a given list that are divisible by 2 and 3 using the\n",
    "# filter function.\n",
    "# [2, 3, 6, 9, 27, 60, 90, 120, 55, 46]"
   ]
  },
  {
   "cell_type": "code",
   "execution_count": null,
   "id": "5cdfe9e1-b28f-4a02-be0a-6f604db48a5f",
   "metadata": {},
   "outputs": [],
   "source": [
    "l=[2, 3, 6, 9, 27, 60, 90, 120, 55, 46]"
   ]
  },
  {
   "cell_type": "code",
   "execution_count": 21,
   "id": "b6361b3c-a537-436f-bb8b-ce6a6f41eb10",
   "metadata": {},
   "outputs": [
    {
     "data": {
      "text/plain": [
       "[6, 12, 18, 24]"
      ]
     },
     "execution_count": 21,
     "metadata": {},
     "output_type": "execute_result"
    }
   ],
   "source": [
    "list(filter(lambda x:x%2==0 and x%3==0,l))"
   ]
  },
  {
   "cell_type": "code",
   "execution_count": 20,
   "id": "ff07c2a2-82cc-4553-9884-8dd735e1b7f3",
   "metadata": {},
   "outputs": [
    {
     "data": {
      "text/plain": [
       "[6, 12, 18, 24]"
      ]
     },
     "execution_count": 20,
     "metadata": {},
     "output_type": "execute_result"
    }
   ],
   "source": [
    "list(filter(lambda x:x%6==0,l))"
   ]
  },
  {
   "cell_type": "markdown",
   "id": "12463c5e-0afa-4de6-a05d-59d3cb0274fc",
   "metadata": {},
   "source": [
    "### question6"
   ]
  },
  {
   "cell_type": "code",
   "execution_count": null,
   "id": "b98ac2b8-7a1a-4d85-8ec1-fee994820657",
   "metadata": {},
   "outputs": [],
   "source": [
    "# Q6. Write a python program to find palindromes in the given list of strings using lambda and filter\n",
    "# function.\n",
    "# ['python', 'php', 'aba', 'radar', 'level']"
   ]
  },
  {
   "cell_type": "code",
   "execution_count": 22,
   "id": "da896b85-fda7-4e93-94cc-9f317e97ac68",
   "metadata": {},
   "outputs": [],
   "source": [
    "l=['python', 'php', 'aba', 'radar', 'level']"
   ]
  },
  {
   "cell_type": "code",
   "execution_count": 23,
   "id": "3f5263e6-86a1-40f3-a324-87d415cfb7cd",
   "metadata": {},
   "outputs": [
    {
     "data": {
      "text/plain": [
       "['python', 'php', 'aba', 'radar', 'level']"
      ]
     },
     "execution_count": 23,
     "metadata": {},
     "output_type": "execute_result"
    }
   ],
   "source": [
    "l"
   ]
  },
  {
   "cell_type": "code",
   "execution_count": 25,
   "id": "97a7c48c-d0d3-4419-87ff-e47e90d3026a",
   "metadata": {},
   "outputs": [
    {
     "data": {
      "text/plain": [
       "['php', 'aba', 'radar', 'level']"
      ]
     },
     "execution_count": 25,
     "metadata": {},
     "output_type": "execute_result"
    }
   ],
   "source": [
    "# pallindrom in the given list\n",
    "list(filter(lambda x:x==x[::-1],l))"
   ]
  },
  {
   "cell_type": "code",
   "execution_count": null,
   "id": "3e21371b-b7c6-4c33-9405-71124b1e45b1",
   "metadata": {},
   "outputs": [],
   "source": []
  }
 ],
 "metadata": {
  "kernelspec": {
   "display_name": "Python 3 (ipykernel)",
   "language": "python",
   "name": "python3"
  },
  "language_info": {
   "codemirror_mode": {
    "name": "ipython",
    "version": 3
   },
   "file_extension": ".py",
   "mimetype": "text/x-python",
   "name": "python",
   "nbconvert_exporter": "python",
   "pygments_lexer": "ipython3",
   "version": "3.10.8"
  }
 },
 "nbformat": 4,
 "nbformat_minor": 5
}
