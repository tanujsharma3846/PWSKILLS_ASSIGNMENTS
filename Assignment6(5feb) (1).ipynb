{
 "cells": [
  {
   "cell_type": "markdown",
   "id": "8d94b9a5-5f85-46d9-9ffb-d056bdbb96e8",
   "metadata": {},
   "source": [
    "# Assignment 6 (5 feb)"
   ]
  },
  {
   "cell_type": "markdown",
   "id": "68a96471-0db0-4d33-8f35-5395048a8486",
   "metadata": {},
   "source": [
    "#### question 1"
   ]
  },
  {
   "cell_type": "code",
   "execution_count": null,
   "id": "014497ce-161c-4877-9b8a-3eeef5eb353b",
   "metadata": {},
   "outputs": [],
   "source": [
    "# Q1. Explain Class and Object with respect to Object-Oriented Programming. Give a suitable example."
   ]
  },
  {
   "cell_type": "code",
   "execution_count": null,
   "id": "a04b552a-0938-4f9d-94b4-9b83c1f4c636",
   "metadata": {},
   "outputs": [],
   "source": [
    "#A class can be understood as a template or a blueprint, which contains some values, known as data members, and some set of rules, known as behaviors #or methods. The data and methods that are defined in the class are automatically taken when an object is created. The class is a template or blueprint #for objects. One can make as many objects as they want to be based on a class.\n",
    "\n",
    "#For example, the template for the car is created first after that multiple units or objects of cars can be created based on the template. And each of #the objects must have the data and methods mentioned in the blueprint.\n",
    "\n",
    "#A class is a set of traits and features that define an object. It is a blueprint which must be implemented by each of its objects.\n",
    "\n",
    "#For example: If we define a blueprint of human beings then it can have attributes like Name, Age, Gender, Occupation and functionalities like Walk(), #Eat(), and Sleep(). Any human being must have these properties(data) and functionalities(methods) associated with them.\n"
   ]
  },
  {
   "cell_type": "code",
   "execution_count": null,
   "id": "52a76584-1e49-4799-aaac-dddd93bf968e",
   "metadata": {},
   "outputs": [],
   "source": [
    "#A class contains the properties and behaviour for a set of objects, many objects can be formed using a class.\n",
    "\n",
    "#Take the example of a dog as an object.\n",
    "#There are different varieties of dogs that means different varieties of objects according to the dog class. For example, one dog has black color, #another dog may have grey color, or white, etc.\n",
    "#However, we can notice that most of the behaviours are the same like barking, wagging their tail, eating, sleeping, etc.\n",
    "#Properties and behaviour of these objects can be the same but their values would be different."
   ]
  },
  {
   "cell_type": "markdown",
   "id": "e5001c8d-4222-4aec-b81e-ddc9d52d31a7",
   "metadata": {},
   "source": [
    "#### question 2"
   ]
  },
  {
   "cell_type": "code",
   "execution_count": null,
   "id": "11014cc0-bfdc-4203-9548-619f49a5ea65",
   "metadata": {},
   "outputs": [],
   "source": [
    "# Q2. Name the four pillars of OOPs."
   ]
  },
  {
   "cell_type": "code",
   "execution_count": null,
   "id": "62c04a60-a049-476e-a380-249e2b7d48de",
   "metadata": {},
   "outputs": [],
   "source": [
    "#The four pillars of object-oriented programming are:\n",
    "\n",
    "#Abstraction\n",
    "\n",
    "#Encapsulation\n",
    "\n",
    "#Inheritance\n",
    "\n",
    "#Polymorphism"
   ]
  },
  {
   "cell_type": "markdown",
   "id": "f62d4e4a-d376-4696-9f46-7f03f8dfd5c7",
   "metadata": {},
   "source": [
    "#### question 3"
   ]
  },
  {
   "cell_type": "code",
   "execution_count": null,
   "id": "1aef40ec-a473-4312-91af-ce5bf3f80a30",
   "metadata": {},
   "outputs": [],
   "source": [
    "#Explain why the __init__() function is used. Give a suitable example."
   ]
  },
  {
   "cell_type": "code",
   "execution_count": null,
   "id": "e7b230c0-2989-445d-9b84-5512bbf0f4b0",
   "metadata": {},
   "outputs": [],
   "source": [
    "# 1   __int__() is basically the constructor used to initialise the values in an object.\n",
    "\n",
    "# 2   A constructor contains a collection of statements(i.e. instructions) that are executed at the time of Object creation. It is run as soon as an     object of a class is instantiated. The method is useful to do any initialization you want to do with your object.\n"
   ]
  },
  {
   "cell_type": "code",
   "execution_count": 5,
   "id": "886136fa-bd7a-497b-a79f-294f9b5264a1",
   "metadata": {},
   "outputs": [],
   "source": [
    "# example :-\n",
    "\n",
    "class pwskills1:\n",
    "    def __init__(self,phone_number, email_id,student_id):\n",
    "        self.phone_number=phone_number\n",
    "        self.email_id=email_id\n",
    "        self.student_id=student_id\n",
    "    def return_student_details(self):\n",
    "        return  self.phone_number, self.email_id,self.student_id\n",
    "   "
   ]
  },
  {
   "cell_type": "code",
   "execution_count": 6,
   "id": "d083dffd-918d-4e44-a41c-b7b58d98c5c8",
   "metadata": {},
   "outputs": [],
   "source": [
    "rohan=pwskills1(6969696969,\"rohan69@gmail.com\",101)"
   ]
  },
  {
   "cell_type": "code",
   "execution_count": 8,
   "id": "bf4fe29d-7544-4491-ba5d-166f1aaadb40",
   "metadata": {},
   "outputs": [
    {
     "data": {
      "text/plain": [
       "(6969696969, 'rohan69@gmail.com', 101)"
      ]
     },
     "execution_count": 8,
     "metadata": {},
     "output_type": "execute_result"
    }
   ],
   "source": [
    "rohan.return_student_details()"
   ]
  },
  {
   "cell_type": "code",
   "execution_count": null,
   "id": "02c973cb-d32f-485b-a2da-fe5799c051c5",
   "metadata": {},
   "outputs": [],
   "source": [
    "#1) in the above example ,when we create an object named rohan and give it values, we use __init__ keyword as a constructor to initialise the the values.\n",
    "#2) The keyword self represents the instance of a class and binds the attributes with the given arguments.\n",
    "#3) Similarly, many objects of the Pwskills1 class can be created by passing different phone_number,email_id,student_id as arguments"
   ]
  },
  {
   "cell_type": "markdown",
   "id": "18042bcd-1b45-4009-a15a-9de7380f537f",
   "metadata": {},
   "source": [
    "#### question 4"
   ]
  },
  {
   "cell_type": "code",
   "execution_count": null,
   "id": "b8993710-f64a-4a89-9181-1a238198fc81",
   "metadata": {},
   "outputs": [],
   "source": [
    "# Q4. Why self is used in OOPs?"
   ]
  },
  {
   "cell_type": "code",
   "execution_count": null,
   "id": "c2264044-6b38-4538-90cf-82a01053c20f",
   "metadata": {},
   "outputs": [],
   "source": [
    "#1) self represents the instance of the class. By using the “self”  we can access the attributes and methods of the class in python.\n",
    "#2) It binds the attributes with the given arguments.\n",
    "#3)The reason you need to use self is because Python does not use the @ syntax to refer to instance attributes. Python decided to do methods in a way #that makes the instance to which the method belongs be passed automatically, but not received automatically: the first parameter of methods is the #instance the method is called on.\n",
    "#using self\n",
    "#example below \n",
    "              "
   ]
  },
  {
   "cell_type": "code",
   "execution_count": 10,
   "id": "9643ef64-d3fe-4dbb-94ef-4a0b37b73a04",
   "metadata": {},
   "outputs": [],
   "source": [
    "class pwskills:\n",
    "    \n",
    "    def welcome_msg(self):# self is used to bind the class properties to class\n",
    "        print(\"welcome to pwskills\")"
   ]
  },
  {
   "cell_type": "code",
   "execution_count": 11,
   "id": "003cdbb1-129d-4e76-98fe-fb23645fce29",
   "metadata": {},
   "outputs": [],
   "source": [
    "rohan=pwskills() # class ka object/instane"
   ]
  },
  {
   "cell_type": "code",
   "execution_count": 13,
   "id": "d43be61e-f923-4c7e-8468-b93ac84a3b2b",
   "metadata": {},
   "outputs": [
    {
     "name": "stdout",
     "output_type": "stream",
     "text": [
      "welcome to pwskills\n"
     ]
    }
   ],
   "source": [
    "rohan.welcome_msg() "
   ]
  },
  {
   "cell_type": "code",
   "execution_count": 17,
   "id": "07d82014-f971-4992-81f7-12b7240e8ab5",
   "metadata": {},
   "outputs": [],
   "source": [
    "# It does not have to be named self , you can call it whatever you like, but it has to be the first parameter of any function in the class:\n",
    "# using self is not compulsary, we can use other key word of our choice as well \n",
    "# for example \n",
    "class pwskills3:\n",
    "    def __init__(sudh,phone_number, email_id,student_id):\n",
    "        sudh.phone_number1=phone_number\n",
    "        sudh.email_id1=email_id\n",
    "        sudh.student_id1=student_id\n",
    "    def return_student_details(sudh):\n",
    "        return  sudh.phone_number1, sudh.email_id1,sudh.student_id1"
   ]
  },
  {
   "cell_type": "code",
   "execution_count": 15,
   "id": "28fb54d8-627b-4421-9229-2debd2bfcced",
   "metadata": {},
   "outputs": [],
   "source": [
    "rohan=pwskills3(3456788,\"rohan@gmail.com\",345)"
   ]
  },
  {
   "cell_type": "code",
   "execution_count": 16,
   "id": "8c518d5c-2216-495a-bd9b-94ab992245fa",
   "metadata": {},
   "outputs": [
    {
     "data": {
      "text/plain": [
       "(3456788, 'rohan@gmail.com', 345)"
      ]
     },
     "execution_count": 16,
     "metadata": {},
     "output_type": "execute_result"
    }
   ],
   "source": [
    "rohan.return_student_details()"
   ]
  },
  {
   "cell_type": "code",
   "execution_count": 18,
   "id": "ad6da978-3e54-4440-b5df-660b942b654e",
   "metadata": {},
   "outputs": [],
   "source": [
    "# in the above example we have used sudh inplace of self, it works completely fine because self is not predefined keyword\n"
   ]
  },
  {
   "cell_type": "markdown",
   "id": "3ec2a8a2-b344-419e-a8f7-011f9a2e1567",
   "metadata": {},
   "source": [
    "#### question 5"
   ]
  },
  {
   "cell_type": "code",
   "execution_count": null,
   "id": "5d2418de-08c9-41cd-a2c3-51caa7d66241",
   "metadata": {},
   "outputs": [],
   "source": [
    "# Q5. What is inheritance? Give an example for each type of inheritance."
   ]
  },
  {
   "cell_type": "code",
   "execution_count": null,
   "id": "40956cd9-0709-4deb-befd-4f4c064dbfc6",
   "metadata": {},
   "outputs": [],
   "source": [
    "# One of the core concepts in object-oriented programming (OOP) languages is inheritance. It is a mechanism that allows you to create a hierarchy of  # classes that share a set of properties and methods by deriving a class from another class. Inheritance is the capability of one class to derive or #inherit the properties from another class. "
   ]
  },
  {
   "cell_type": "code",
   "execution_count": null,
   "id": "e57e0388-3bf9-447f-8cd4-484e2f30ef62",
   "metadata": {},
   "outputs": [],
   "source": [
    "#Types of inheritance: There are five types of inheritance in python programming:\n",
    "\n",
    "#1). Single inheritance\n",
    "#2). Multiple inheritances\n",
    "#3). Multilevel inheritance\n",
    "#4). Hierarchical inheritance\n",
    "#5). Hybrid inheritance"
   ]
  },
  {
   "cell_type": "code",
   "execution_count": null,
   "id": "fdf10fdb-f70e-4541-97ea-571216127f98",
   "metadata": {},
   "outputs": [],
   "source": [
    "#(i). Single inheritance: When child class is derived from only one parent class. This is called single inheritance. The example we did above is the best example for single inheritance in python programming."
   ]
  },
  {
   "cell_type": "code",
   "execution_count": 1,
   "id": "d976633a-f5b5-46f7-99ed-62121e85ad18",
   "metadata": {},
   "outputs": [
    {
     "name": "stdout",
     "output_type": "stream",
     "text": [
      "Amazon is an Online Ecommerce Store\n",
      "Ebay is an Online Store\n",
      "OLX is an Online Buy Sell Store\n"
     ]
    }
   ],
   "source": [
    "#syntax_of_single_inheritance\n",
    "\n",
    "class Brands:               #parent_class\n",
    "    brand_name_1 = \"Amazon\"\n",
    "    brand_name_2 = \"Ebay\"\n",
    "    brand_name_3 = \"OLX\"\n",
    "    \n",
    "class Products(Brands):       #child_class\n",
    "    prod_1 = \"Online Ecommerce Store\"\n",
    "    prod_2 = \"Online Store\"\n",
    "    prod_3 = \"Online Buy Sell Store\"\n",
    "    \n",
    "obj_1 = Products()          #Object_creation\n",
    "print(obj_1.brand_name_1+\" is an \"+obj_1.prod_1)\n",
    "print(obj_1.brand_name_2+\" is an \"+obj_1.prod_2)\n",
    "print(obj_1.brand_name_3+\" is an \"+obj_1.prod_3)"
   ]
  },
  {
   "cell_type": "code",
   "execution_count": null,
   "id": "1ed6d797-29e9-475d-bd1f-f9937a649d97",
   "metadata": {},
   "outputs": [],
   "source": [
    "#(ii). Multiple Inheritance: When child class is derived or inherited from more than one parent class. This is called multiple inheritance. In multiple inheritance, we have two parent classes/base classes and one child class that inherits both parent classes properties."
   ]
  },
  {
   "cell_type": "code",
   "execution_count": 3,
   "id": "65f34c29-7586-4828-a329-7b2476a0e7da",
   "metadata": {},
   "outputs": [
    {
     "name": "stdout",
     "output_type": "stream",
     "text": [
      "Amazon is an Online Ecommerce Store\n",
      "Ebay is an Online Store\n",
      "OLX is an Online Buy Sell Store\n"
     ]
    }
   ],
   "source": [
    "#example_of_multiple_inheritance\n",
    "\n",
    "class Brands:               #parent_class\n",
    "    brand_name_1 = \"Amazon\"\n",
    "    brand_name_2 = \"Ebay\"\n",
    "    brand_name_3 = \"OLX\"\n",
    "    \n",
    "class Products:            #child_class\n",
    "    prod_1 = \"Online Ecommerce Store\"\n",
    "    prod_2 = \"Online Store\"\n",
    "    prod_3 = \"Online Buy Sell Store\"\n",
    "\n",
    "class Popularity(Brands,Products):\n",
    "    prod_1_popularity = 100\n",
    "    prod_2_popularity = 70\n",
    "    prod_3_popularity = 60\n",
    "    \n",
    "obj_1 = Popularity()          #Object_creation\n",
    "print(obj_1.brand_name_1+\" is an \"+obj_1.prod_1)\n",
    "print(obj_1.brand_name_2+\" is an \"+obj_1.prod_2)\n",
    "print(obj_1.brand_name_3+\" is an \"+obj_1.prod_3)"
   ]
  },
  {
   "cell_type": "code",
   "execution_count": null,
   "id": "2cca7b55-8888-45be-82bd-e7265201bc5f",
   "metadata": {},
   "outputs": [],
   "source": [
    "# (iii). Multilevel Inheritance: In multilevel inheritance, we have one parent class and child class that is derived or inherited from that parent #class. We have a grand-child class that is derived from the child class. See the below-given flow diagram to understand more clearly."
   ]
  },
  {
   "cell_type": "code",
   "execution_count": 4,
   "id": "a8d5ea58-84e0-45f0-8b95-6830434d1aa8",
   "metadata": {},
   "outputs": [
    {
     "name": "stdout",
     "output_type": "stream",
     "text": [
      "Amazon is an Online Ecommerce Store popularity of 100\n",
      "Ebay is an Online Store popularity of 70\n",
      "OLX is an Online Buy Sell Store popularity of 60\n"
     ]
    }
   ],
   "source": [
    "#example_of_multilevel_inheritance\n",
    "\n",
    "class Brands:                      #parent_class\n",
    "    brand_name_1 = \"Amazon\"\n",
    "    brand_name_2 = \"Ebay\"\n",
    "    brand_name_3 = \"OLX\"\n",
    "    \n",
    "class Products(Brands):            #child_class\n",
    "    prod_1 = \"Online Ecommerce Store\"\n",
    "    prod_2 = \"Online Store\"\n",
    "    prod_3 = \"Online Buy Sell Store\"\n",
    "\n",
    "class Popularity(Products):        #grand_child_class\n",
    "    prod_1_popularity = 100\n",
    "    prod_2_popularity = 70\n",
    "    prod_3_popularity = 60\n",
    "    \n",
    "    \n",
    "obj_1 = Popularity()          #Object_creation\n",
    "print(obj_1.brand_name_1+\" is an \"+obj_1.prod_1+\" popularity of \"+str(obj_1.prod_1_popularity))\n",
    "print(obj_1.brand_name_2+\" is an \"+obj_1.prod_2+\" popularity of \"+str(obj_1.prod_2_popularity))\n",
    "print(obj_1.brand_name_3+\" is an \"+obj_1.prod_3+\" popularity of \"+str(obj_1.prod_3_popularity))"
   ]
  },
  {
   "cell_type": "code",
   "execution_count": null,
   "id": "53535c99-1bbe-4218-9a0c-ca262af509f5",
   "metadata": {},
   "outputs": [],
   "source": [
    "4). # Hierarchical inheritance: When we derive or inherit more than one child class from one(same) parent class. Then this type of inheritance is called hierarchical inheritance."
   ]
  },
  {
   "cell_type": "code",
   "execution_count": 5,
   "id": "800916d1-2084-49d4-b2ea-2f920d056e62",
   "metadata": {},
   "outputs": [
    {
     "name": "stdout",
     "output_type": "stream",
     "text": [
      "Amazon is an Online Ecommerce Store\n",
      "Amazon is an Online Ecommerce Store\n",
      "Amazon is an Online Ecommerce Store\n"
     ]
    }
   ],
   "source": [
    "#example\n",
    "\n",
    "class Brands:                      #parent_class\n",
    "    brand_name_1 = \"Amazon\"\n",
    "    brand_name_2 = \"Ebay\"\n",
    "    brand_name_3 = \"OLX\"\n",
    "    \n",
    "class Products(Brands):            #child_class\n",
    "    prod_1 = \"Online Ecommerce Store\"\n",
    "    prod_2 = \"Online Store\"\n",
    "    prod_3 = \"Online Buy Sell Store\"\n",
    "\n",
    "class Popularity(Brands):        #grand_child_class\n",
    "    prod_1_popularity = 100\n",
    "    prod_2_popularity = 70\n",
    "    prod_3_popularity = 60\n",
    "\n",
    "class Value(Brands):\n",
    "    prod_1_value = \"Excellent Value\"\n",
    "    prod_2_value = \"Better Value\"\n",
    "    prod_3_value = \"Good Value\"\n",
    "    \n",
    "obj_1 = Products()          #Object_creation\n",
    "obj_2 = Popularity()\n",
    "obj_3 = Value()\n",
    "print(obj_1.brand_name_1+\" is an \"+obj_1.prod_1)\n",
    "print(obj_1.brand_name_1+\" is an \"+obj_1.prod_1)\n",
    "print(obj_1.brand_name_1+\" is an \"+obj_1.prod_1)"
   ]
  },
  {
   "cell_type": "code",
   "execution_count": null,
   "id": "5c9e8f89-bd4a-433c-bfad-fe45431bca82",
   "metadata": {},
   "outputs": [],
   "source": [
    "#5). Hybrid Inheritance: Hybrid inheritance satisfies more than one form of inheritance ie. It may be consists of all types of inheritance that we #have #done above. It is not wrong if we say Hybrid Inheritance is the combinations of simple, multiple, multilevel and hierarchical inheritance. This #type #of inheritance is very helpful if we want to use concepts of inheritance without any limitations according to our requirements."
   ]
  },
  {
   "cell_type": "code",
   "execution_count": 13,
   "id": "52f6a9c9-9e32-4b0b-bfec-f43261d8b022",
   "metadata": {},
   "outputs": [
    {
     "name": "stdout",
     "output_type": "stream",
     "text": [
      "This is Student class inheriting PC and Laptop\n",
      "This is Mouse class inheriting Laptop class\n"
     ]
    }
   ],
   "source": [
    "#Example_Hybrid_inheritance\n",
    "class PC:\n",
    "\tdef fun1(self):\n",
    "\t\tprint(\"This is PC class\")\n",
    "\n",
    "class Laptop(PC):\n",
    "\tdef fun2(self):\n",
    "\t\tprint(\"This is Laptop class inheriting PC class\")\n",
    "\n",
    "class Mouse(Laptop):\n",
    "\tdef fun3(self):\n",
    "\t\tprint(\"This is Mouse class inheriting Laptop class\")\n",
    "\n",
    "class Student(Mouse, Laptop):\n",
    "\tdef fun4(self):\n",
    "\t\tprint(\"This is Student class inheriting PC and Laptop\")\n",
    "\n",
    "# Driver’s code\n",
    "obj = Student()\n",
    "obj1 = Mouse()\n",
    "obj.fun4()\n",
    "obj.fun3()"
   ]
  },
  {
   "cell_type": "code",
   "execution_count": null,
   "id": "ae7d16f9-7a71-4bc2-9ced-a80fda725fdf",
   "metadata": {},
   "outputs": [],
   "source": []
  }
 ],
 "metadata": {
  "kernelspec": {
   "display_name": "Python 3 (ipykernel)",
   "language": "python",
   "name": "python3"
  },
  "language_info": {
   "codemirror_mode": {
    "name": "ipython",
    "version": 3
   },
   "file_extension": ".py",
   "mimetype": "text/x-python",
   "name": "python",
   "nbconvert_exporter": "python",
   "pygments_lexer": "ipython3",
   "version": "3.10.8"
  }
 },
 "nbformat": 4,
 "nbformat_minor": 5
}
