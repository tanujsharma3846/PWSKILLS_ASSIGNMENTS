{
 "cells": [
  {
   "cell_type": "markdown",
   "id": "3db933a6-f39d-47a9-aac2-bd91d31cacc9",
   "metadata": {},
   "source": [
    "# assigment 2(30jan)"
   ]
  },
  {
   "cell_type": "code",
   "execution_count": 2,
   "id": "c6d1132e-4eec-4d9c-9f09-824dfdd914c2",
   "metadata": {},
   "outputs": [],
   "source": [
    "# question 1"
   ]
  },
  {
   "cell_type": "code",
   "execution_count": 3,
   "id": "df3395eb-5aa8-4cf1-bc1a-5a6e24642157",
   "metadata": {},
   "outputs": [
    {
     "name": "stdin",
     "output_type": "stream",
     "text": [
      "enter marks:  69\n"
     ]
    },
    {
     "name": "stdout",
     "output_type": "stream",
     "text": [
      "C\n"
     ]
    }
   ],
   "source": [
    "marks=int(input(\"enter marks: \"))\n",
    "if marks>90:\n",
    "    print(\"A\")\n",
    "elif marks>80 and marks<=90:\n",
    "    print(\"B\")\n",
    "elif marks>60 and marks<=80:\n",
    "    print(\"C\")\n",
    "else:\n",
    "    print(\"D\")"
   ]
  },
  {
   "cell_type": "code",
   "execution_count": 4,
   "id": "0c836ad3-2645-4082-b3af-14d9a6cf2c83",
   "metadata": {},
   "outputs": [],
   "source": [
    "# question 2"
   ]
  },
  {
   "cell_type": "code",
   "execution_count": 5,
   "id": "925f4566-e297-414b-8e39-e35fd5412829",
   "metadata": {},
   "outputs": [
    {
     "name": "stdin",
     "output_type": "stream",
     "text": [
      "enter price of bike 1000\n"
     ]
    },
    {
     "name": "stdout",
     "output_type": "stream",
     "text": [
      "tax = 50.0\n"
     ]
    }
   ],
   "source": [
    "price=int(input(\"enter price of bike\"))\n",
    "if price>100000:\n",
    "    tax=(price)*(15/100)\n",
    "elif price>50000 and price<=100000:\n",
    "    tax=(price)*(10/100)\n",
    "else:\n",
    "    tax=(price)*(5/100)\n",
    "print(\"tax =\",tax)"
   ]
  },
  {
   "cell_type": "code",
   "execution_count": 6,
   "id": "2b6bce3a-0c12-4dda-8d55-4a2c6ab6921a",
   "metadata": {},
   "outputs": [],
   "source": [
    "# question 3"
   ]
  },
  {
   "cell_type": "code",
   "execution_count": 7,
   "id": "194a8d6e-4889-457e-99c5-9b507278e0c8",
   "metadata": {},
   "outputs": [
    {
     "name": "stdin",
     "output_type": "stream",
     "text": [
      "enter city name Agra\n"
     ]
    },
    {
     "name": "stdout",
     "output_type": "stream",
     "text": [
      "monument of your city is  Taj Mahal\n"
     ]
    }
   ],
   "source": [
    "city=input(\"enter city name\")\n",
    "if city==\"Delhi\":\n",
    "    monument=\"Red Fort\"\n",
    "if city==\"Agra\":\n",
    "    monument=\"Taj Mahal\"\n",
    "if city==\"Jaipur\":\n",
    "    monument=\"Jal Mahal\"\n",
    "print(\"monument of your city is \",monument)"
   ]
  },
  {
   "cell_type": "code",
   "execution_count": 8,
   "id": "c98ac972-77ad-4bd0-8480-1312cbd975a8",
   "metadata": {},
   "outputs": [],
   "source": [
    "# question 4"
   ]
  },
  {
   "cell_type": "code",
   "execution_count": 9,
   "id": "38d6443f-ef85-47c1-8c83-5f35f252c853",
   "metadata": {},
   "outputs": [
    {
     "name": "stdin",
     "output_type": "stream",
     "text": [
      "enter number:  12\n"
     ]
    },
    {
     "name": "stdout",
     "output_type": "stream",
     "text": [
      "1\n"
     ]
    }
   ],
   "source": [
    "number =int(input(\"enter number: \"))\n",
    "count=0\n",
    "while(number>10):\n",
    "     number=number/3;\n",
    "     count=count+1\n",
    "print(count)   "
   ]
  },
  {
   "cell_type": "code",
   "execution_count": 10,
   "id": "36fce504-b546-481a-9da3-f4c86d7e9be0",
   "metadata": {},
   "outputs": [],
   "source": [
    "# question 5"
   ]
  },
  {
   "cell_type": "raw",
   "id": "586a9aed-af54-4c5c-9c35-18c8b2bb2d54",
   "metadata": {},
   "source": [
    "Python While Loop is used to execute a block of statements repeatedly until a given condition is satisfied. And when the condition becomes false, the line immediately after the loop in the program is executed."
   ]
  },
  {
   "cell_type": "code",
   "execution_count": 11,
   "id": "2e3f4dfc-e16c-4b30-8cd6-5f3099ecd5a3",
   "metadata": {},
   "outputs": [
    {
     "name": "stdout",
     "output_type": "stream",
     "text": [
      "Hello world\n",
      "Hello world\n",
      "Hello world\n"
     ]
    }
   ],
   "source": [
    "count = 0\n",
    "while (count < 3):\n",
    "    count = count + 1\n",
    "    print(\"Hello world\")"
   ]
  },
  {
   "cell_type": "code",
   "execution_count": 12,
   "id": "de2020ab-a907-47c3-b2ed-473c16764f44",
   "metadata": {},
   "outputs": [],
   "source": [
    "# question 6"
   ]
  },
  {
   "cell_type": "code",
   "execution_count": 13,
   "id": "818d3cbe-6095-402e-89bc-a9eee5a24a76",
   "metadata": {},
   "outputs": [],
   "source": [
    "# pattern 1"
   ]
  },
  {
   "cell_type": "code",
   "execution_count": 14,
   "id": "3d73ecaa-5215-4b8b-be55-2f4c8386911a",
   "metadata": {},
   "outputs": [
    {
     "name": "stdout",
     "output_type": "stream",
     "text": [
      "12345 \n",
      "1234 \n",
      "123 \n",
      "12 \n",
      "1 \n"
     ]
    }
   ],
   "source": [
    "i=5\n",
    "while i>=1:\n",
    "    j=1\n",
    "    while(j<=i):\n",
    "        print(j,end='')\n",
    "        j=j+1\n",
    "    print(\" \")\n",
    "    i=i-1"
   ]
  },
  {
   "cell_type": "code",
   "execution_count": 15,
   "id": "4aa1988b-efc3-4614-998c-3a3fda7bf3b7",
   "metadata": {},
   "outputs": [],
   "source": [
    "# pattern 2"
   ]
  },
  {
   "cell_type": "code",
   "execution_count": 16,
   "id": "4849581c-c0a3-4526-a624-72e5942f3fe1",
   "metadata": {},
   "outputs": [
    {
     "name": "stdout",
     "output_type": "stream",
     "text": [
      "1 \n",
      "12 \n",
      "123 \n",
      "1234 \n",
      "12345 \n"
     ]
    }
   ],
   "source": [
    "i=1\n",
    "while i<=5:\n",
    "    j=1\n",
    "    while(j<=i):\n",
    "        print(j,end='')\n",
    "        j=j+1\n",
    "    print(\" \")\n",
    "    i=i+1"
   ]
  },
  {
   "cell_type": "code",
   "execution_count": 17,
   "id": "a18fcdbb-c35b-4a9e-8551-33da6cb0f820",
   "metadata": {},
   "outputs": [],
   "source": [
    "# pattern 3"
   ]
  },
  {
   "cell_type": "code",
   "execution_count": 18,
   "id": "9d04655f-4811-436f-813e-2efab4059f91",
   "metadata": {},
   "outputs": [
    {
     "name": "stdout",
     "output_type": "stream",
     "text": [
      "1 \n",
      "22 \n",
      "333 \n",
      "4444 \n",
      "55555 \n"
     ]
    }
   ],
   "source": [
    "i=1\n",
    "while i<=5:\n",
    "    j=1\n",
    "    while(j<=i):\n",
    "        print(i,end='')\n",
    "        j=j+1\n",
    "    print(\" \")\n",
    "    i=i+1"
   ]
  },
  {
   "cell_type": "code",
   "execution_count": 21,
   "id": "862308ec-afc4-42b2-8b31-9b0977724cb4",
   "metadata": {},
   "outputs": [],
   "source": [
    "# question 7 and 8"
   ]
  },
  {
   "cell_type": "code",
   "execution_count": 20,
   "id": "b763b3cd-2548-4fb4-baae-a3fcfa99504f",
   "metadata": {},
   "outputs": [
    {
     "name": "stdout",
     "output_type": "stream",
     "text": [
      "10\n",
      "9\n",
      "8\n",
      "7\n",
      "6\n",
      "5\n",
      "4\n",
      "3\n",
      "2\n",
      "1\n"
     ]
    }
   ],
   "source": [
    "\n",
    "i=10\n",
    "while(i>0):\n",
    "    print(i)\n",
    "    i=i-1"
   ]
  },
  {
   "cell_type": "code",
   "execution_count": null,
   "id": "0d8229f6-5ecd-405a-b61d-8903e10a6880",
   "metadata": {},
   "outputs": [],
   "source": []
  }
 ],
 "metadata": {
  "kernelspec": {
   "display_name": "Python 3 (ipykernel)",
   "language": "python",
   "name": "python3"
  },
  "language_info": {
   "codemirror_mode": {
    "name": "ipython",
    "version": 3
   },
   "file_extension": ".py",
   "mimetype": "text/x-python",
   "name": "python",
   "nbconvert_exporter": "python",
   "pygments_lexer": "ipython3",
   "version": "3.10.8"
  }
 },
 "nbformat": 4,
 "nbformat_minor": 5
}
