{
 "cells": [
  {
   "cell_type": "code",
   "execution_count": null,
   "id": "8e97d164-96a8-433b-be75-2a7c251dab61",
   "metadata": {},
   "outputs": [],
   "source": [
    "# assignment 1 (29 Jan)"
   ]
  },
  {
   "cell_type": "code",
   "execution_count": null,
   "id": "895ef29e-4c39-4a7c-a841-41d3abc79397",
   "metadata": {},
   "outputs": [],
   "source": [
    "# q1) who developed python programming language ?"
   ]
  },
  {
   "cell_type": "code",
   "execution_count": null,
   "id": "6f39d710-b3fc-4d45-9e1c-05d20007c4be",
   "metadata": {},
   "outputs": [],
   "source": [
    "# Python was created by Guido van Rossum, and first released on February 20, 1991."
   ]
  },
  {
   "cell_type": "code",
   "execution_count": null,
   "id": "13ab2b9a-3f0a-4796-ab23-680f4178a6fc",
   "metadata": {},
   "outputs": [],
   "source": [
    "# q2) which type of programming does python support"
   ]
  },
  {
   "cell_type": "code",
   "execution_count": null,
   "id": "4e217d6a-a31c-4ca4-90f6-a4762531c6d7",
   "metadata": {},
   "outputs": [],
   "source": [
    "# Python is a multi-paradigm programming language.\n",
    "# Object-oriented programming and structured programming are fully supported, and many of their features support functional programming and aspect-oriented programming (including metaprogramming and metaobjects)."
   ]
  },
  {
   "cell_type": "code",
   "execution_count": null,
   "id": "25ebeb88-a096-4114-b32d-cca460c0801f",
   "metadata": {},
   "outputs": [],
   "source": [
    "# q3) is python case sensitive while dealing with identifiers ?"
   ]
  },
  {
   "cell_type": "code",
   "execution_count": null,
   "id": "de43535e-8b91-4362-84f7-e350645970b2",
   "metadata": {},
   "outputs": [],
   "source": [
    "# Yes, Python is a case-sensitive language, i.e., it treats uppercase and lowercase characters differently. This applies to identifiers too."
   ]
  },
  {
   "cell_type": "code",
   "execution_count": null,
   "id": "8fde8ca1-2814-42b3-b9c9-d62857e6be6d",
   "metadata": {},
   "outputs": [],
   "source": [
    "# q4) what is correct extension for python file"
   ]
  },
  {
   "cell_type": "code",
   "execution_count": null,
   "id": "fa28ef85-cac5-4a31-afcb-f5fc4e9f43dc",
   "metadata": {},
   "outputs": [],
   "source": [
    "# .py is correct extension for python file"
   ]
  },
  {
   "cell_type": "code",
   "execution_count": null,
   "id": "aff06fed-f679-487a-b123-427e3cc51f03",
   "metadata": {},
   "outputs": [],
   "source": [
    "# q5) is python code complied or interpreted ?"
   ]
  },
  {
   "cell_type": "code",
   "execution_count": null,
   "id": "f0b9482c-42c5-4c94-83f3-54fa233ecb4f",
   "metadata": {},
   "outputs": [],
   "source": [
    "# python code is interpreted. Python is an interpreted language, which means the source code of a Python program is converted into bytecode that is then executed by the Python virtual machine. "
   ]
  },
  {
   "cell_type": "code",
   "execution_count": null,
   "id": "e7fb2a72-28bb-4a24-aa0f-9459d997bb6c",
   "metadata": {},
   "outputs": [],
   "source": [
    "# q6) Name a few blocks of code used to define python language?"
   ]
  },
  {
   "cell_type": "code",
   "execution_count": null,
   "id": "0da9f18e-ce6a-4fbb-a5d9-d997183ab1fc",
   "metadata": {},
   "outputs": [],
   "source": [
    "# A Python program is constructed from code blocks. A block is a piece of Python program text that is executed as a unit. \n",
    "# The following are blocks: a module, a function body, and a class definition."
   ]
  },
  {
   "cell_type": "code",
   "execution_count": null,
   "id": "075279f5-8e15-4877-b08d-6551a1cc0e48",
   "metadata": {},
   "outputs": [],
   "source": [
    "# q7) state a character used to give single line comments in python ?"
   ]
  },
  {
   "cell_type": "code",
   "execution_count": null,
   "id": "732f6b75-eea3-480d-a7d2-367081f07b55",
   "metadata": {},
   "outputs": [],
   "source": [
    "# We can write a single-line comment by adding a single # character before any statement or line of code."
   ]
  },
  {
   "cell_type": "code",
   "execution_count": null,
   "id": "81e09fac-1941-4ea8-9a92-59fd99aa2915",
   "metadata": {},
   "outputs": [],
   "source": [
    "# q8) mention function which can help us to find version of python that we are currently working on ?"
   ]
  },
  {
   "cell_type": "code",
   "execution_count": null,
   "id": "685320f9-137e-4f26-a822-c82b28a1dc9b",
   "metadata": {},
   "outputs": [],
   "source": [
    "# Using sys.version method\n",
    "# Using python_version() function\n",
    "# Using Python -V command"
   ]
  },
  {
   "cell_type": "code",
   "execution_count": null,
   "id": "7e8b904f-9c4c-4f65-9f01-f5dd4ed6dbc9",
   "metadata": {},
   "outputs": [],
   "source": [
    "# q9) Python supports the creation of anonymous functions at runtime, using a construct called____"
   ]
  },
  {
   "cell_type": "code",
   "execution_count": null,
   "id": "6fccddf9-da1b-4fcc-adac-a42be046d837",
   "metadata": {},
   "outputs": [],
   "source": [
    "#lambda\n",
    "#Python supports the creation of anonymous functions (i.e. functions that are not bound to a name) at runtime, using a construct called lambda. Lambda functions are restricted to a single expression. They can be used wherever normal functions can be used."
   ]
  },
  {
   "cell_type": "code",
   "execution_count": null,
   "id": "7f4a6d68-eb38-4857-b618-b33ce72cb3b0",
   "metadata": {},
   "outputs": [],
   "source": [
    "# 10) What does pip stand for python?"
   ]
  },
  {
   "cell_type": "code",
   "execution_count": null,
   "id": "9a1e01cd-2d37-4b99-920a-566d3a8b6c81",
   "metadata": {},
   "outputs": [],
   "source": [
    "# PIP is a recursive acronym for “Preferred Installer Program” or PIP Installs Packages. It is a command-line utility that installs, reinstalls, or uninstalls PyPI packages with one simple command: pip"
   ]
  },
  {
   "cell_type": "code",
   "execution_count": null,
   "id": "8f8c127a-796e-4a14-a016-eab9ef6e9294",
   "metadata": {},
   "outputs": [],
   "source": [
    "# 11) Mention a few built-in functions in python?"
   ]
  },
  {
   "cell_type": "code",
   "execution_count": null,
   "id": "f17305a5-7cc9-4ed0-9624-376aac11e5db",
   "metadata": {},
   "outputs": [],
   "source": [
    "#abs()\t       Returns the absolute value of a number\n",
    "#all()\t       Returns True if all items in an iterable object are true\n",
    "#any()\t       Returns True if any item in an iterable object is true\n",
    "#ascii()\t       Returns a readable version of an object. Replaces none-ascii characters with escape character\n",
    "#bin()\t       Returns the binary version of a number\n",
    "#bool()\t       Returns the boolean value of the specified object"
   ]
  },
  {
   "cell_type": "code",
   "execution_count": null,
   "id": "5d721d87-2fc3-4a62-8551-830e6c154ce1",
   "metadata": {},
   "outputs": [],
   "source": [
    "# q12) What is the maximum possible length of an identifier in Python?"
   ]
  },
  {
   "cell_type": "code",
   "execution_count": null,
   "id": "fc5c3739-999f-4c74-89c3-3413b7b9c8a3",
   "metadata": {},
   "outputs": [],
   "source": [
    "# An identifier can have a maximum length of 79 characters in Python"
   ]
  },
  {
   "cell_type": "code",
   "execution_count": null,
   "id": "b481ff28-4bba-4742-8e9a-ecff16362b70",
   "metadata": {},
   "outputs": [],
   "source": [
    "# q13) What are the benefits of using Python?"
   ]
  },
  {
   "cell_type": "code",
   "execution_count": null,
   "id": "f78de6d5-8c40-4705-bbd8-f7507d4e8562",
   "metadata": {},
   "outputs": [],
   "source": [
    "#Advantages of Python are the following;\n",
    "\n",
    "#Simple to Use and Understand: for newcomers, Python is simple to understand and use. It's a highly developed programming language with an English-like syntax. The language is simple to adapt as a result of these factors. Because of its simplicity, Python's fundamentals can be implemented faster than those in other programming languages.\n",
    "\n",
    "#Free and Open-Source: Python is distributed under an open-source license approved by the Open-Source Initiative (OSI). As a result, users can work on it and distribute it. Users can download the source code, modify it, and even distribute their Python version. Companies that wish to modify a specific behavior and build their version will benefit.\n",
    "\n",
    "#Productivity has Increased: Users can create new kinds of applications using the Python programming language. Because of its versatility, this language permits the operator to try new things. Because of the language, the user is not prevented from trying something new. Python is favored in these scenarios since other programming languages lack the flexibility and freedom that Python does.\n",
    "\n",
    "#Interpreted Language: It is an interpreted language, implying that the code is implemented line by line. This is one of the features that makes it simple to use. In the event of an error, it halts the process and reports the problem. Python only shows one error, even if the program has multiple errors. This makes debugging easier.\n",
    "\n",
    "#Extensive library: Python includes a huge number of libraries that the user can use. The standard library in Python is immense, and it includes almost every function imaginable. Large and supportive communities, as well as corporate sponsorship, have contributed to this. When working with Python, users do not need to use external libraries.\n",
    "\n",
    "#Dynamically Typed: Until we run the program, Python has no idea what kinds of parameter we're talking about. It allocates the data type automatically during execution. Variables and their data types do not need to be declared by the programmer.\n",
    "\n",
    "#Portability: Many other languages, including C/C++, demand that user must change their code to run on different platforms. Python, on the contrary, is not equivalent to other programming languages. It only needs to be written once, and then it can be run anywhere. However, the user should avoid involving any system-dependent features."
   ]
  },
  {
   "cell_type": "code",
   "execution_count": null,
   "id": "0d5c0601-5de9-4c21-9bed-af19c6784838",
   "metadata": {},
   "outputs": [],
   "source": [
    "# q14) How is memory managed in Python?"
   ]
  },
  {
   "cell_type": "code",
   "execution_count": null,
   "id": "d72bb108-a397-4c39-b597-d7047e193f16",
   "metadata": {},
   "outputs": [],
   "source": [
    "#Memory management in Python involves a private heap containing all Python objects and data structures.\n",
    "#The management of this private heap is ensured internally by the Python memory manager."
   ]
  },
  {
   "cell_type": "code",
   "execution_count": null,
   "id": "ff12ee3f-cef3-40e7-8d7a-6dc8f8f4016b",
   "metadata": {},
   "outputs": [],
   "source": [
    "# q15) How to install Python on Windows and set path variables"
   ]
  },
  {
   "cell_type": "code",
   "execution_count": null,
   "id": "2ae85c35-8b09-47fc-a4fb-efd03038ad3a",
   "metadata": {},
   "outputs": [],
   "source": [
    "#Steps to install Python on Windows\n",
    "#Step 1: Select Version of Python to Install.\n",
    "#Step 2: Download Python Executable Installer.\n",
    "#Step 3: Run Executable Installer.\n",
    "#Step 4: Verify Python Was Installed On Windows.\n",
    "#Step 5: Verify Pip Was Installed.\n",
    "#Step 6: Add Python Path to Environment Variables (Optional)\n",
    "#Step 7: Install virtualnv (Optional)\n",
    "\n",
    "#The complete path of python.exe can be added by:\n",
    "#1)Right-clicking This PC and going to Properties.\n",
    "#2)Clicking on the Advanced system settings in the menu on the left.\n",
    "#3)Clicking on the Environment Variables button o​n the bottom right.\n",
    "#4)In the System variables section, selecting the Path variable and clicking on Edit. The next screen will show all the directories that are currently #a part of the PATH variable.\n",
    "#5)Clicking on New and entering Python’s install directory.\n",
    "\n",
    "#Python can now be used directly from the command prompt without having to write its location. Try executing the command python --version; it will #output the version of Python installed on your system."
   ]
  },
  {
   "cell_type": "code",
   "execution_count": null,
   "id": "f54a51a6-0bfa-4866-ad11-397e2f3adf68",
   "metadata": {},
   "outputs": [],
   "source": [
    "# q16) Is indentation required in python?"
   ]
  },
  {
   "cell_type": "code",
   "execution_count": null,
   "id": "1d617a1f-618f-4602-9146-c814faa55f0a",
   "metadata": {},
   "outputs": [],
   "source": [
    "#Yes\n",
    "#Indentation refers to the spaces at the beginning of a code line. Where in other programming languages the indentation in code is for readability #only, the indentation in Python is very important. Python uses indentation to indicate a block of code."
   ]
  },
  {
   "cell_type": "raw",
   "id": "4098cf95-2c59-43f3-aaff-1a1517535e24",
   "metadata": {},
   "source": []
  }
 ],
 "metadata": {
  "kernelspec": {
   "display_name": "Python 3 (ipykernel)",
   "language": "python",
   "name": "python3"
  },
  "language_info": {
   "codemirror_mode": {
    "name": "ipython",
    "version": 3
   },
   "file_extension": ".py",
   "mimetype": "text/x-python",
   "name": "python",
   "nbconvert_exporter": "python",
   "pygments_lexer": "ipython3",
   "version": "3.10.8"
  }
 },
 "nbformat": 4,
 "nbformat_minor": 5
}
