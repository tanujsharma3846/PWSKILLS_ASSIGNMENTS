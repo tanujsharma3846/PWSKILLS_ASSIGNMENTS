{
 "cells": [
  {
   "cell_type": "markdown",
   "id": "1fb04595-37ba-4f09-94d0-155336df1cee",
   "metadata": {},
   "source": [
    "# Assignment 3( 2feb)"
   ]
  },
  {
   "cell_type": "markdown",
   "id": "faad5137-137d-4cae-b483-acba6cd351e0",
   "metadata": {},
   "source": [
    "### question 1"
   ]
  },
  {
   "cell_type": "code",
   "execution_count": null,
   "id": "c3502e23-8808-4346-a198-3f5741b79354",
   "metadata": {},
   "outputs": [],
   "source": [
    "# Q1. Explain with an example each when to use a for loop and a while loop."
   ]
  },
  {
   "cell_type": "code",
   "execution_count": null,
   "id": "d9f42e63-eadf-4838-8206-aa1d9d2c54bf",
   "metadata": {},
   "outputs": [],
   "source": [
    "# For Loop: A for loop is an iteration method that is best used when you know the number of iterations ahead of time. It’s always followed by the initialization, expression and increment statements.\n",
    "\n",
    "# While Loop: A while loop is an iteration method that is best used when you don't know the number of iterations ahead of time. The contents of the loop are executed as long as the expression evaluates to true."
   ]
  },
  {
   "cell_type": "code",
   "execution_count": 1,
   "id": "ceb2cb4a-f354-44ae-8013-1d14442b58f3",
   "metadata": {},
   "outputs": [],
   "source": [
    "# for loop "
   ]
  },
  {
   "cell_type": "code",
   "execution_count": 2,
   "id": "b14039db-aa34-4bd8-b8cc-6e1a7229a192",
   "metadata": {},
   "outputs": [
    {
     "name": "stdout",
     "output_type": "stream",
     "text": [
      "apple\n",
      "banana\n",
      "cherry\n"
     ]
    }
   ],
   "source": [
    "fruits = [\"apple\", \"banana\", \"cherry\"]\n",
    "for x in fruits:\n",
    "  print(x)"
   ]
  },
  {
   "cell_type": "code",
   "execution_count": null,
   "id": "141a0873-fd27-44d7-9309-ccefc34190d6",
   "metadata": {},
   "outputs": [],
   "source": [
    "# while loop"
   ]
  },
  {
   "cell_type": "code",
   "execution_count": 3,
   "id": "13ebe2a4-84d8-428f-a495-b9b593d5bc2d",
   "metadata": {},
   "outputs": [
    {
     "name": "stdout",
     "output_type": "stream",
     "text": [
      "1\n",
      "2\n",
      "3\n",
      "4\n",
      "5\n"
     ]
    }
   ],
   "source": [
    "i = 1\n",
    "while i < 6:\n",
    "  print(i)\n",
    "  i += 1"
   ]
  },
  {
   "cell_type": "markdown",
   "id": "e22fa4d1-01bf-4b66-9f69-fe8a1c5d9b2a",
   "metadata": {},
   "source": [
    "#### question 2"
   ]
  },
  {
   "cell_type": "code",
   "execution_count": null,
   "id": "30b60069-bbfb-40bd-9bc4-4161273f1fee",
   "metadata": {},
   "outputs": [],
   "source": [
    "# Q2. Write a python program to print the sum and product of the first 10 natural numbers using for\n",
    "# and while loop."
   ]
  },
  {
   "cell_type": "code",
   "execution_count": 4,
   "id": "21f24cfc-8044-4825-8fe4-584d9cbf7ae0",
   "metadata": {},
   "outputs": [
    {
     "name": "stdout",
     "output_type": "stream",
     "text": [
      "sum of first 10 nos:  55\n",
      "product of first 10 nos:  3628800\n"
     ]
    }
   ],
   "source": [
    "sum=0\n",
    "product=1\n",
    "i=1\n",
    "while(i<11):\n",
    "    sum=sum+i\n",
    "    product=product*i\n",
    "    i=i+1\n",
    "print(\"sum of first 10 nos: \",sum)\n",
    "print(\"product of first 10 nos: \",product)"
   ]
  },
  {
   "cell_type": "markdown",
   "id": "8585ddca-6397-4d0b-93b0-325f135dc7fe",
   "metadata": {},
   "source": [
    "#### question 3"
   ]
  },
  {
   "cell_type": "code",
   "execution_count": null,
   "id": "973fc83d-db6f-436c-990b-0b637db8ad35",
   "metadata": {},
   "outputs": [],
   "source": [
    "#Q3. Create a python program to compute the electricity bill for a household.\n",
    "\n",
    "# The per-unit charges in rupees are as follows: For the first 100 units, the user will be charged Rs. 4.5 per\n",
    "# unit, for the next 100 units, the user will be charged Rs. 6 per unit, and for the next 100 units, the user will\n",
    "# be charged Rs. 10 per unit, After 300 units and above the user will be charged Rs. 20 per unit."
   ]
  },
  {
   "cell_type": "code",
   "execution_count": 7,
   "id": "97153c7c-4cd3-4716-8b5f-3df3b20a1267",
   "metadata": {},
   "outputs": [
    {
     "name": "stdin",
     "output_type": "stream",
     "text": [
      "enter units used 310\n"
     ]
    },
    {
     "name": "stdout",
     "output_type": "stream",
     "text": [
      "2250.0\n"
     ]
    }
   ],
   "source": [
    "units=int(input(\"enter units used\"))\n",
    "bill=1\n",
    "if(units<=100):\n",
    "    bill=units*4.5\n",
    "elif(units>100 and units<=200):\n",
    "    new_unit=units-100\n",
    "    bill=new_unit*6 + 100*4.5\n",
    "elif(units>200 and units<=300):\n",
    "    new_unit=units-200\n",
    "    bill=new_unit*10 + 100*6 + 100*4.5\n",
    "else:\n",
    "    new_unit=units-300\n",
    "    bill=new_unit*20 + 100*4.5 + 100*6 + 100*10\n",
    "print(bill)"
   ]
  },
  {
   "cell_type": "markdown",
   "id": "5b416d02-e44c-43c8-8ce1-c4cda5ef378f",
   "metadata": {},
   "source": [
    "#### question 4"
   ]
  },
  {
   "cell_type": "code",
   "execution_count": null,
   "id": "9c43e431-373a-413f-8650-ac352015cfca",
   "metadata": {},
   "outputs": [],
   "source": [
    "#Q4. Create a list of numbers from 1 to 100. Use for loop and while loop to calculate the cube of each\n",
    "# number and if the cube of that number is divisible by 4 or 5 then append that number in a list and print\n",
    "# that list."
   ]
  },
  {
   "cell_type": "code",
   "execution_count": 17,
   "id": "492a5e8d-14aa-462d-aa36-29c9676718c4",
   "metadata": {},
   "outputs": [
    {
     "name": "stdout",
     "output_type": "stream",
     "text": [
      "[2, 4, 5, 6, 8, 10, 12, 14, 15, 16, 18, 20, 22, 24, 25, 26, 28, 30, 32, 34, 35, 36, 38, 40, 42, 44, 45, 46, 48, 50, 52, 54, 55, 56, 58, 60, 62, 64, 65, 66, 68, 70, 72, 74, 75, 76, 78, 80, 82, 84, 85, 86, 88, 90, 92, 94, 95, 96, 98, 100]\n"
     ]
    }
   ],
   "source": [
    "# using for loop\n",
    "l=[]\n",
    "l_cubdiv=[]\n",
    "i=1\n",
    "while i<101:\n",
    "    l.append(i)\n",
    "    if (i**3)%4==0 or (i**3)%5==0:\n",
    "        l_cubdiv.append(i)\n",
    "        \n",
    "    i=i+1\n",
    "#print(l) \n",
    "print(l_cubdiv)"
   ]
  },
  {
   "cell_type": "code",
   "execution_count": 13,
   "id": "bd5a9b79-b96f-4d4e-a48d-86cac69f1b4c",
   "metadata": {},
   "outputs": [
    {
     "name": "stdout",
     "output_type": "stream",
     "text": [
      "[1, 2, 3, 4, 5, 6, 7, 8, 9, 10, 11, 12, 13, 14, 15, 16, 17, 18, 19, 20, 21, 22, 23, 24, 25, 26, 27, 28, 29, 30, 31, 32, 33, 34, 35, 36, 37, 38, 39, 40, 41, 42, 43, 44, 45, 46, 47, 48, 49, 50, 51, 52, 53, 54, 55, 56, 57, 58, 59, 60, 61, 62, 63, 64, 65, 66, 67, 68, 69, 70, 71, 72, 73, 74, 75, 76, 77, 78, 79, 80, 81, 82, 83, 84, 85, 86, 87, 88, 89, 90, 91, 92, 93, 94, 95, 96, 97, 98, 99, 100]\n",
      "numbers whose cube is divisible by 4 or 5: \n",
      "[2, 4, 5, 6, 8, 10, 12, 14, 15, 16, 18, 20, 22, 24, 25, 26, 28, 30, 32, 34, 35, 36, 38, 40, 42, 44, 45, 46, 48, 50, 52, 54, 55, 56, 58, 60, 62, 64, 65, 66, 68, 70, 72, 74, 75, 76, 78, 80, 82, 84, 85, 86, 88, 90, 92, 94, 95, 96, 98, 100]\n"
     ]
    }
   ],
   "source": [
    "# using for loop\n",
    "=[]\n",
    "l_cubdiv=[]\n",
    "for i in range(1,101):\n",
    "    l.append(i)\n",
    "    if (i**3)%4==0 or (i**3)%5==0:\n",
    "        l_cubdiv.append(i)\n",
    "print(l) \n",
    "print(\"numbers whose cube is divisible by 4 or 5: \")\n",
    "print(l_cubdiv)"
   ]
  },
  {
   "cell_type": "markdown",
   "id": "c6b30769-9fa4-49f0-93ad-935e2772076b",
   "metadata": {},
   "source": [
    "#### question 5"
   ]
  },
  {
   "cell_type": "code",
   "execution_count": null,
   "id": "537ed076-a8c3-4f4d-b7f8-b0a74fd771b8",
   "metadata": {},
   "outputs": [],
   "source": [
    "# Q5. Write a program to filter count vowels in the below-given string.\n",
    "# string = \"I want to become a data scientist\""
   ]
  },
  {
   "cell_type": "code",
   "execution_count": 39,
   "id": "5d916d20-273e-4b12-9512-ae8942e82a8f",
   "metadata": {},
   "outputs": [],
   "source": [
    "string=\"I want to become a data scientist\""
   ]
  },
  {
   "cell_type": "code",
   "execution_count": 57,
   "id": "97c0ea62-632c-491a-8c8c-372d822b00ec",
   "metadata": {},
   "outputs": [
    {
     "name": "stdout",
     "output_type": "stream",
     "text": [
      "i want to become a data scientist\n",
      "number of vowels= 12\n",
      "['i', 'a', 'o', 'e', 'o', 'e', 'a', 'a', 'a', 'i', 'e', 'i']\n"
     ]
    }
   ],
   "source": [
    "l2=[]\n",
    "string=string.lower()\n",
    "print(string)\n",
    "vowels=['a','e','i','o','u']\n",
    "count=0\n",
    "for char in string:\n",
    "    if char in vowels:\n",
    "        count=count+1\n",
    "        l2.append(char)\n",
    "print(\"number of vowels=\",count)\n",
    "print(l2)"
   ]
  },
  {
   "cell_type": "code",
   "execution_count": null,
   "id": "c36658fe-ce65-45eb-84cf-83f4155ec041",
   "metadata": {},
   "outputs": [],
   "source": []
  },
  {
   "cell_type": "code",
   "execution_count": null,
   "id": "726eba40-b247-4fe9-8091-f62ea1acda8b",
   "metadata": {},
   "outputs": [],
   "source": []
  }
 ],
 "metadata": {
  "kernelspec": {
   "display_name": "Python 3 (ipykernel)",
   "language": "python",
   "name": "python3"
  },
  "language_info": {
   "codemirror_mode": {
    "name": "ipython",
    "version": 3
   },
   "file_extension": ".py",
   "mimetype": "text/x-python",
   "name": "python",
   "nbconvert_exporter": "python",
   "pygments_lexer": "ipython3",
   "version": "3.10.8"
  }
 },
 "nbformat": 4,
 "nbformat_minor": 5
}
