{
 "cells": [
  {
   "cell_type": "markdown",
   "id": "6526ede9-26ec-4b8f-aaea-54674d79d53e",
   "metadata": {},
   "source": [
    "# assignment4"
   ]
  },
  {
   "cell_type": "markdown",
   "id": "f8039bce-97a8-4191-8829-357e9928b7d3",
   "metadata": {},
   "source": [
    "### question 1"
   ]
  },
  {
   "cell_type": "code",
   "execution_count": null,
   "id": "26998f8b-9c75-4576-a47e-9690a0ccb986",
   "metadata": {},
   "outputs": [],
   "source": [
    "# Q1. Which keyword is used to create a function? Create a function to return a list of odd numbers in the \n",
    "# range of 1 to 25."
   ]
  },
  {
   "cell_type": "code",
   "execution_count": 3,
   "id": "a9772e55-424c-4be5-877d-94cf89acf38a",
   "metadata": {},
   "outputs": [],
   "source": [
    "# def keyword is used to create a function\n",
    "l=[]\n",
    "def odd():\n",
    "    i=1\n",
    "    for i in range(1,25):\n",
    "        if i%2 != 0:\n",
    "            l.append(i)\n",
    "    print(l)\n",
    "    "
   ]
  },
  {
   "cell_type": "code",
   "execution_count": 4,
   "id": "330dce72-c062-4d5c-acc8-1e019d45996f",
   "metadata": {},
   "outputs": [
    {
     "name": "stdout",
     "output_type": "stream",
     "text": [
      "[1, 3, 5, 7, 9, 11, 13, 15, 17, 19, 21, 23]\n"
     ]
    }
   ],
   "source": [
    "odd()"
   ]
  },
  {
   "cell_type": "markdown",
   "id": "b8d7e3f8-4dae-449a-9e91-29216869e2ba",
   "metadata": {},
   "source": [
    "### question 2"
   ]
  },
  {
   "cell_type": "code",
   "execution_count": null,
   "id": "323175f3-e801-4080-8d24-51d9e83d4014",
   "metadata": {},
   "outputs": [],
   "source": [
    "#Q2. Why *args and **kwargs is used in some functions? Create a function each for *args and **kwargs \n",
    "# to demonstrate their use."
   ]
  },
  {
   "cell_type": "code",
   "execution_count": null,
   "id": "40e13ed9-7d0d-4a2c-85e5-c104f44cbe41",
   "metadata": {},
   "outputs": [],
   "source": [
    "# The special syntax *args in function definitions in python is used to pass a variable number of arguments to a function. It is used to pass a non-key worded, variable-length argument list. \n",
    "\n",
    "# The syntax is to use the symbol * to take in a variable number of arguments; by convention, it is often used with the word args.\n",
    "# What *args allows you to do is take in more arguments than the number of formal arguments that you previously defined. With *args, any number of extra arguments can be tacked on to your current formal parameters (including zero extra arguments).\n",
    "# For example, we want to make a multiply function that takes any number of arguments and is able to multiply them all together. It can be done using *args.\n",
    "# Using the *, the variable that we associate with the * becomes an iterable meaning you can do things like iterate over it, run some higher-order functions such as map and filter, etc."
   ]
  },
  {
   "cell_type": "code",
   "execution_count": 3,
   "id": "058e7385-ef89-4b9b-a94f-d5fec8eb400a",
   "metadata": {},
   "outputs": [],
   "source": [
    "def test12(*args):\n",
    "    return args"
   ]
  },
  {
   "cell_type": "code",
   "execution_count": 4,
   "id": "07cf538b-15c6-4bd3-95df-8383bbb9e354",
   "metadata": {},
   "outputs": [
    {
     "data": {
      "text/plain": [
       "(1, 2, 3)"
      ]
     },
     "execution_count": 4,
     "metadata": {},
     "output_type": "execute_result"
    }
   ],
   "source": [
    "test12(1,2,3)"
   ]
  },
  {
   "cell_type": "code",
   "execution_count": 5,
   "id": "9c2f5cca-f07c-4797-ae74-fafebc6e8f02",
   "metadata": {},
   "outputs": [],
   "source": [
    "def test13(*args,a):\n",
    "    return args,a"
   ]
  },
  {
   "cell_type": "code",
   "execution_count": 11,
   "id": "520ca707-23ce-45e7-896a-276fbbd5ba66",
   "metadata": {},
   "outputs": [
    {
     "data": {
      "text/plain": [
       "((1, 2, 3, 4), 69)"
      ]
     },
     "execution_count": 11,
     "metadata": {},
     "output_type": "execute_result"
    }
   ],
   "source": [
    "test13(1,2,3,4,a=69)"
   ]
  },
  {
   "cell_type": "code",
   "execution_count": null,
   "id": "7530a825-68a6-47ba-a8a9-d840ca9c2d6a",
   "metadata": {},
   "outputs": [],
   "source": [
    "#The special syntax **kwargs in function definitions in python is used to pass a keyworded, variable-length argument list. We use the name kwargs with the double star. The reason is that the double star allows us to pass through keyword arguments (and any number of them).\n",
    "\n",
    "#A keyword argument is where you provide a name to the variable as you pass it into the function.\n",
    "#One can think of the kwargs as being a dictionary that maps each keyword to the value that we pass alongside it. That is why when we iterate over the kwargs there doesn’t seem to be any order in which they were printed out."
   ]
  },
  {
   "cell_type": "code",
   "execution_count": 12,
   "id": "66ebf6cc-f01a-47c3-ac93-11d2d61ed91b",
   "metadata": {},
   "outputs": [],
   "source": [
    "def test15(**kwargs):\n",
    "    return kwargs"
   ]
  },
  {
   "cell_type": "code",
   "execution_count": 13,
   "id": "1451fda8-9ed8-4c27-8bc1-db496e75657c",
   "metadata": {},
   "outputs": [
    {
     "data": {
      "text/plain": [
       "{'a': [1, 2, 3, 4], 'b': 'sudh', 'c': 69.69}"
      ]
     },
     "execution_count": 13,
     "metadata": {},
     "output_type": "execute_result"
    }
   ],
   "source": [
    "test15(a=[1,2,3,4],b=\"sudh\",c=69.69)"
   ]
  },
  {
   "cell_type": "markdown",
   "id": "8d616fd8-60e0-4a3a-8197-5214459fd49f",
   "metadata": {},
   "source": [
    "### question3"
   ]
  },
  {
   "cell_type": "code",
   "execution_count": null,
   "id": "de5e6769-5429-435f-bf92-16db112032f4",
   "metadata": {},
   "outputs": [],
   "source": [
    "# Q3. What is an iterator in python? Name the method used to initialise the iterator object and the method\n",
    "# used for iteration. Use these methods to print the first five elements of the given list [2, 4, 6, 8, 10, 12, 14,\n",
    "# 16, 18, 20]."
   ]
  },
  {
   "cell_type": "code",
   "execution_count": null,
   "id": "24a04a45-515a-4a44-94d6-cb812c127122",
   "metadata": {},
   "outputs": [],
   "source": [
    "# Iterator in Python is an object that is used to iterate over iterable objects like lists, tuples, dicts, and sets. The iterator object is initialized using the iter() method. It uses the next() method for iteration.\n",
    "\n",
    "# __iter__(): The iter() method is called for the initialization of an iterator. This returns an iterator object\n",
    "# __next__(): The next method returns the next value for the iterable. When we use a for loop to traverse any iterable object, internally it uses the iter() method to get an iterator object, which further uses the next() method to iterate over. This method raises a StopIteration to signal the end of the iteration."
   ]
  },
  {
   "cell_type": "code",
   "execution_count": 15,
   "id": "f1535fbe-993b-42d7-a87d-f235d911891c",
   "metadata": {},
   "outputs": [],
   "source": [
    "l=[2,4,6,8,10,12,14,16,18,20]"
   ]
  },
  {
   "cell_type": "code",
   "execution_count": 46,
   "id": "e11f66c8-b768-4bf2-9b9b-e32b94ad1ada",
   "metadata": {},
   "outputs": [
    {
     "name": "stdout",
     "output_type": "stream",
     "text": [
      "2\n",
      "4\n",
      "6\n",
      "8\n",
      "10\n"
     ]
    }
   ],
   "source": [
    "iterator=iter(l)\n",
    "count=0\n",
    "while(count<5):\n",
    "    element=next(iterator)\n",
    "    print(element)\n",
    "    count=count+1"
   ]
  },
  {
   "cell_type": "markdown",
   "id": "054e46ce-f494-4a9b-b851-489eb991d519",
   "metadata": {},
   "source": [
    "#### question 4"
   ]
  },
  {
   "cell_type": "code",
   "execution_count": null,
   "id": "8b5de618-5858-4c95-b38d-7b68fdcec896",
   "metadata": {},
   "outputs": [],
   "source": [
    "# Q4. What is a generator function in python? Why yield keyword is used? Give an example of a generator function."
   ]
  },
  {
   "cell_type": "code",
   "execution_count": null,
   "id": "ee473de5-b234-404a-82e1-fc88e4f5fc1a",
   "metadata": {},
   "outputs": [],
   "source": [
    "# Generator-Function: A generator-function is defined like a normal function, but whenever it needs to generate a value, it does so with the yield keyword rather than return. If the body of a def contains yield, the function automatically becomes a generator function. "
   ]
  },
  {
   "cell_type": "code",
   "execution_count": 49,
   "id": "40d43c81-876c-4b85-876e-c05b6fc6c2c3",
   "metadata": {},
   "outputs": [
    {
     "name": "stdout",
     "output_type": "stream",
     "text": [
      "0\n",
      "1\n",
      "2\n"
     ]
    }
   ],
   "source": [
    "def my_generator(n):\n",
    "    value = 0\n",
    "    while value < n:\n",
    "        yield value\n",
    "        value += 1\n",
    "for value in my_generator(3):\n",
    "    print(value)"
   ]
  },
  {
   "cell_type": "code",
   "execution_count": 51,
   "id": "bbf8e512-6164-45d3-be68-7882b50f4296",
   "metadata": {},
   "outputs": [],
   "source": [
    "def test_fib(n):\n",
    "    a,b,=0,1\n",
    "    for i in range(n):\n",
    "        yield a\n",
    "        a,b =b,a+b"
   ]
  },
  {
   "cell_type": "code",
   "execution_count": 52,
   "id": "b93a0b34-f563-40c7-ace7-651783447ffb",
   "metadata": {},
   "outputs": [
    {
     "name": "stdout",
     "output_type": "stream",
     "text": [
      "0\n",
      "1\n",
      "1\n",
      "2\n",
      "3\n",
      "5\n",
      "8\n",
      "13\n",
      "21\n",
      "34\n"
     ]
    }
   ],
   "source": [
    "for i in test_fib(10):\n",
    "    print(i)"
   ]
  },
  {
   "cell_type": "markdown",
   "id": "6b1d3846-5976-41ee-a532-e46ecc27568f",
   "metadata": {},
   "source": [
    "#### question 5"
   ]
  },
  {
   "cell_type": "code",
   "execution_count": null,
   "id": "34c394b0-64d6-4369-9d9b-48e4889f5c11",
   "metadata": {},
   "outputs": [],
   "source": [
    "# Q5. Create a generator function for prime numbers less than 1000. Use the next() method to print the first 20 prime numbers."
   ]
  },
  {
   "cell_type": "code",
   "execution_count": 23,
   "id": "7d9ba47a-a4d4-4fe4-af3f-260e951354ce",
   "metadata": {},
   "outputs": [],
   "source": [
    "def genprime():\n",
    "    for i in range(2,1000):\n",
    "        flag=0\n",
    "        for j in range(2,i):\n",
    "            if i%j==0:\n",
    "                flag=1\n",
    "        if flag==0:\n",
    "            yield(i)"
   ]
  },
  {
   "cell_type": "code",
   "execution_count": 41,
   "id": "50e3d1c7-0b9e-4e89-bcaa-7d81fb60d232",
   "metadata": {},
   "outputs": [],
   "source": [
    "primenos=genprime()"
   ]
  },
  {
   "cell_type": "code",
   "execution_count": 43,
   "id": "842067d8-48ae-4904-9c67-ee208055db0f",
   "metadata": {},
   "outputs": [
    {
     "data": {
      "text/plain": [
       "generator"
      ]
     },
     "execution_count": 43,
     "metadata": {},
     "output_type": "execute_result"
    }
   ],
   "source": [
    "type(primenos)"
   ]
  },
  {
   "cell_type": "code",
   "execution_count": 44,
   "id": "38c7513b-9764-4ce7-8b97-526bc488a1d0",
   "metadata": {},
   "outputs": [
    {
     "name": "stdout",
     "output_type": "stream",
     "text": [
      "2\n",
      "3\n",
      "5\n",
      "7\n",
      "11\n",
      "13\n",
      "17\n",
      "19\n",
      "23\n",
      "29\n",
      "31\n",
      "37\n",
      "41\n",
      "43\n",
      "47\n",
      "53\n",
      "59\n",
      "61\n",
      "67\n",
      "71\n",
      "73\n"
     ]
    }
   ],
   "source": [
    "for i in range(21):\n",
    "    print(next(primenos))"
   ]
  },
  {
   "cell_type": "markdown",
   "id": "f75fac52-8430-4c8d-bf0c-06e4646ffe78",
   "metadata": {},
   "source": [
    "#### question 6"
   ]
  },
  {
   "cell_type": "code",
   "execution_count": null,
   "id": "f0296e82-ac73-4d76-87cd-265a340c1a20",
   "metadata": {},
   "outputs": [],
   "source": [
    "# Q6. Write a python program to print the first 10 Fibonacci numbers using a while loop."
   ]
  },
  {
   "cell_type": "code",
   "execution_count": 54,
   "id": "bf132928-b95e-4a53-8012-eb485c89a390",
   "metadata": {},
   "outputs": [],
   "source": [
    "def fibo():\n",
    "    a,b=0,1\n",
    "    for i in range(10):\n",
    "        sum=a+b\n",
    "        print(a)\n",
    "        a=b\n",
    "        b=sum"
   ]
  },
  {
   "cell_type": "code",
   "execution_count": 55,
   "id": "70adf66e-62cb-4e54-9a81-2585b081ab56",
   "metadata": {},
   "outputs": [
    {
     "name": "stdout",
     "output_type": "stream",
     "text": [
      "0\n",
      "1\n",
      "1\n",
      "2\n",
      "3\n",
      "5\n",
      "8\n",
      "13\n",
      "21\n",
      "34\n"
     ]
    }
   ],
   "source": [
    "fibo()"
   ]
  },
  {
   "cell_type": "code",
   "execution_count": 56,
   "id": "ab698573-9f36-4a26-ba4b-49fff7ea4bfd",
   "metadata": {},
   "outputs": [],
   "source": [
    "# fibonacci using while loop"
   ]
  },
  {
   "cell_type": "code",
   "execution_count": 66,
   "id": "a03646d7-561a-4a27-ba6f-b1c02c51ebca",
   "metadata": {},
   "outputs": [
    {
     "name": "stdout",
     "output_type": "stream",
     "text": [
      "0\n",
      "1\n",
      "1\n",
      "2\n",
      "3\n",
      "5\n",
      "8\n",
      "13\n",
      "21\n"
     ]
    }
   ],
   "source": [
    "a,b,i=0,1,1\n",
    "while(i<10):\n",
    "    sum=a+b\n",
    "    print(a)\n",
    "    a=b\n",
    "    b=sum\n",
    "    i=i+1"
   ]
  },
  {
   "cell_type": "markdown",
   "id": "f4bfac8c-741e-4b3f-86d9-db5480bc1711",
   "metadata": {},
   "source": [
    "### question7"
   ]
  },
  {
   "cell_type": "code",
   "execution_count": null,
   "id": "2652680d-153d-4b5a-8bd7-bc038fed804c",
   "metadata": {},
   "outputs": [],
   "source": [
    "# Q7. Write a List Comprehension to iterate through the given string: ‘pwskills’.\n",
    "# Expected output: ['p', 'w', 's', 'k', 'i', 'l', 'l', 's']"
   ]
  },
  {
   "cell_type": "code",
   "execution_count": 67,
   "id": "9a288068-8bca-4366-8af4-1fa320c4f0ad",
   "metadata": {},
   "outputs": [],
   "source": [
    "string=\"pskills\""
   ]
  },
  {
   "cell_type": "code",
   "execution_count": 68,
   "id": "565d62b9-f126-4922-a9c8-f35b14e91465",
   "metadata": {},
   "outputs": [
    {
     "data": {
      "text/plain": [
       "'pskills'"
      ]
     },
     "execution_count": 68,
     "metadata": {},
     "output_type": "execute_result"
    }
   ],
   "source": [
    "string"
   ]
  },
  {
   "cell_type": "code",
   "execution_count": 69,
   "id": "38a8be5a-da67-4a0e-a615-1564e3f056ed",
   "metadata": {},
   "outputs": [
    {
     "data": {
      "text/plain": [
       "['p', 's', 'k', 'i', 'l', 'l', 's']"
      ]
     },
     "execution_count": 69,
     "metadata": {},
     "output_type": "execute_result"
    }
   ],
   "source": [
    "[i for i in string]"
   ]
  },
  {
   "cell_type": "markdown",
   "id": "fc1db98b-717a-444c-a803-4dc5aa15f601",
   "metadata": {},
   "source": [
    "### question8"
   ]
  },
  {
   "cell_type": "code",
   "execution_count": null,
   "id": "6dc026b2-ad92-45e9-9302-ad1db326f0c0",
   "metadata": {},
   "outputs": [],
   "source": [
    "# Q8. Write a python program to check whether a given number is Palindrome or not using a while loop."
   ]
  },
  {
   "cell_type": "code",
   "execution_count": 72,
   "id": "996d1ea2-8cb6-4283-a39a-b989ad233b03",
   "metadata": {},
   "outputs": [
    {
     "name": "stdin",
     "output_type": "stream",
     "text": [
      "enter number 123\n"
     ]
    },
    {
     "name": "stdout",
     "output_type": "stream",
     "text": [
      "not pallindrome\n"
     ]
    }
   ],
   "source": [
    "num=(input(\"enter number\"))\n",
    "if (num==num[::-1]):\n",
    "    print(\"pallindrome\")\n",
    "else:\n",
    "    print(\"not pallindrome\")"
   ]
  },
  {
   "cell_type": "code",
   "execution_count": 78,
   "id": "c80a466e-b653-4a63-a490-1a521e236a9d",
   "metadata": {},
   "outputs": [
    {
     "name": "stdin",
     "output_type": "stream",
     "text": [
      "enter number 121\n"
     ]
    },
    {
     "name": "stdout",
     "output_type": "stream",
     "text": [
      "This value is a palindrome number!\n"
     ]
    }
   ],
   "source": [
    "num=int(input(\"enter number\"))\n",
    "rev=0\n",
    "temp=num\n",
    "while(num>0):\n",
    "    rem=num%10\n",
    "    rev=rev*10+rem\n",
    "    num=num//10\n",
    "if(temp == rev):  \n",
    "    print(\"This value is a palindrome number!\")  \n",
    "else:  \n",
    "    print(\"This value is not a palindrome number!\")  "
   ]
  },
  {
   "cell_type": "markdown",
   "id": "5a7040a4-8840-4cf3-ad1d-359c44261b94",
   "metadata": {},
   "source": [
    "### question9"
   ]
  },
  {
   "cell_type": "code",
   "execution_count": null,
   "id": "008b7241-e9b8-4147-9ed3-a7b6e7d8a157",
   "metadata": {},
   "outputs": [],
   "source": [
    "# Q9. Write a code to print odd numbers from 1 to 100 using list comprehension."
   ]
  },
  {
   "cell_type": "code",
   "execution_count": 80,
   "id": "2cb31b53-6e6a-435b-b715-17f77b37a6e0",
   "metadata": {},
   "outputs": [],
   "source": [
    "l=[]\n",
    "for i in range(101):\n",
    "    l.append(i)"
   ]
  },
  {
   "cell_type": "code",
   "execution_count": 81,
   "id": "3a1f54d4-8b07-4bee-876a-0895de51ef19",
   "metadata": {},
   "outputs": [
    {
     "data": {
      "text/plain": [
       "[0,\n",
       " 1,\n",
       " 2,\n",
       " 3,\n",
       " 4,\n",
       " 5,\n",
       " 6,\n",
       " 7,\n",
       " 8,\n",
       " 9,\n",
       " 10,\n",
       " 11,\n",
       " 12,\n",
       " 13,\n",
       " 14,\n",
       " 15,\n",
       " 16,\n",
       " 17,\n",
       " 18,\n",
       " 19,\n",
       " 20,\n",
       " 21,\n",
       " 22,\n",
       " 23,\n",
       " 24,\n",
       " 25,\n",
       " 26,\n",
       " 27,\n",
       " 28,\n",
       " 29,\n",
       " 30,\n",
       " 31,\n",
       " 32,\n",
       " 33,\n",
       " 34,\n",
       " 35,\n",
       " 36,\n",
       " 37,\n",
       " 38,\n",
       " 39,\n",
       " 40,\n",
       " 41,\n",
       " 42,\n",
       " 43,\n",
       " 44,\n",
       " 45,\n",
       " 46,\n",
       " 47,\n",
       " 48,\n",
       " 49,\n",
       " 50,\n",
       " 51,\n",
       " 52,\n",
       " 53,\n",
       " 54,\n",
       " 55,\n",
       " 56,\n",
       " 57,\n",
       " 58,\n",
       " 59,\n",
       " 60,\n",
       " 61,\n",
       " 62,\n",
       " 63,\n",
       " 64,\n",
       " 65,\n",
       " 66,\n",
       " 67,\n",
       " 68,\n",
       " 69,\n",
       " 70,\n",
       " 71,\n",
       " 72,\n",
       " 73,\n",
       " 74,\n",
       " 75,\n",
       " 76,\n",
       " 77,\n",
       " 78,\n",
       " 79,\n",
       " 80,\n",
       " 81,\n",
       " 82,\n",
       " 83,\n",
       " 84,\n",
       " 85,\n",
       " 86,\n",
       " 87,\n",
       " 88,\n",
       " 89,\n",
       " 90,\n",
       " 91,\n",
       " 92,\n",
       " 93,\n",
       " 94,\n",
       " 95,\n",
       " 96,\n",
       " 97,\n",
       " 98,\n",
       " 99,\n",
       " 100]"
      ]
     },
     "execution_count": 81,
     "metadata": {},
     "output_type": "execute_result"
    }
   ],
   "source": [
    "l"
   ]
  },
  {
   "cell_type": "code",
   "execution_count": 83,
   "id": "b9f29881-fec2-40e2-8dc5-1f7bb583d8bb",
   "metadata": {},
   "outputs": [
    {
     "data": {
      "text/plain": [
       "[1,\n",
       " 3,\n",
       " 5,\n",
       " 7,\n",
       " 9,\n",
       " 11,\n",
       " 13,\n",
       " 15,\n",
       " 17,\n",
       " 19,\n",
       " 21,\n",
       " 23,\n",
       " 25,\n",
       " 27,\n",
       " 29,\n",
       " 31,\n",
       " 33,\n",
       " 35,\n",
       " 37,\n",
       " 39,\n",
       " 41,\n",
       " 43,\n",
       " 45,\n",
       " 47,\n",
       " 49,\n",
       " 51,\n",
       " 53,\n",
       " 55,\n",
       " 57,\n",
       " 59,\n",
       " 61,\n",
       " 63,\n",
       " 65,\n",
       " 67,\n",
       " 69,\n",
       " 71,\n",
       " 73,\n",
       " 75,\n",
       " 77,\n",
       " 79,\n",
       " 81,\n",
       " 83,\n",
       " 85,\n",
       " 87,\n",
       " 89,\n",
       " 91,\n",
       " 93,\n",
       " 95,\n",
       " 97,\n",
       " 99]"
      ]
     },
     "execution_count": 83,
     "metadata": {},
     "output_type": "execute_result"
    }
   ],
   "source": [
    "# list comprehension\n",
    "[i for i in l if i%2!=0] "
   ]
  },
  {
   "cell_type": "code",
   "execution_count": null,
   "id": "9d716986-e4e2-4126-8ae7-9fbabf0c4892",
   "metadata": {},
   "outputs": [],
   "source": []
  }
 ],
 "metadata": {
  "kernelspec": {
   "display_name": "Python 3 (ipykernel)",
   "language": "python",
   "name": "python3"
  },
  "language_info": {
   "codemirror_mode": {
    "name": "ipython",
    "version": 3
   },
   "file_extension": ".py",
   "mimetype": "text/x-python",
   "name": "python",
   "nbconvert_exporter": "python",
   "pygments_lexer": "ipython3",
   "version": "3.10.8"
  }
 },
 "nbformat": 4,
 "nbformat_minor": 5
}
