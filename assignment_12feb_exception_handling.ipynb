{
 "cells": [
  {
   "cell_type": "markdown",
   "id": "bbc354f6-72f4-4191-bbf5-bee87b1ab289",
   "metadata": {},
   "source": [
    "# Exception Handling (12 feb assignment)"
   ]
  },
  {
   "cell_type": "code",
   "execution_count": null,
   "id": "8b77ad09-d413-4503-988c-21240aacec74",
   "metadata": {},
   "outputs": [],
   "source": []
  },
  {
   "cell_type": "markdown",
   "id": "eded4d1c-9ff4-4ee2-b3e8-94eded8bfbf1",
   "metadata": {},
   "source": [
    "### Q1. What is an Exception in python? Write the difference between Exceptions and Syntax errors."
   ]
  },
  {
   "cell_type": "code",
   "execution_count": 5,
   "id": "4753626c-9a59-4dc5-8ca4-50e09e9115fb",
   "metadata": {},
   "outputs": [],
   "source": [
    "# Errors are the problems in a program due to which the program will stop the execution.\n",
    "# On the other hand, exceptions are raised when some internal events occur which changes the normal flow of the program. \n",
    "\n",
    "# Two types of Error occurs in python.  \n",
    "# 1) Syntax errors\n",
    "# 2) Logical errors (Exceptions) "
   ]
  },
  {
   "cell_type": "code",
   "execution_count": 1,
   "id": "ab0af5f2-3d9a-4864-8407-87ac2b6a258c",
   "metadata": {},
   "outputs": [],
   "source": [
    "#Syntax errors -> When the proper syntax of the language is not followed then a syntax error is thrown.It returns a syntax error message because after the if statement a colon: is missing.We can fix this by writing the correct syntax.\n",
    "#logical errors(Exception) ->When in the runtime an error that occurs after passing the syntax test is called exception or logical type.\n",
    "# For example, when we divide any number by zero then the ZeroDivisionError exception is raised, or when we import a module that does not exist then ImportError is raised.\n"
   ]
  },
  {
   "cell_type": "markdown",
   "id": "1bd79e7e-f8fc-4726-a221-adcfd12741d7",
   "metadata": {},
   "source": [
    "### Q2. What happens when an exception is not handled? Explain with an example."
   ]
  },
  {
   "cell_type": "code",
   "execution_count": 3,
   "id": "887f1f64-eaa6-4f7e-903b-5f8e4b6b8a92",
   "metadata": {},
   "outputs": [],
   "source": [
    "# When an exception occurred, if you don’t handle it, the program terminates abruptly and the code past the line that caused the exception will not get executed."
   ]
  },
  {
   "cell_type": "code",
   "execution_count": 7,
   "id": "5facd474-7e6d-457f-b2c1-d4098612ca12",
   "metadata": {},
   "outputs": [
    {
     "name": "stdout",
     "output_type": "stream",
     "text": [
      "this is my except block float division by zero\n"
     ]
    }
   ],
   "source": [
    "try:\n",
    "    f=open(\"test3.txt\",\"r\")\n",
    "    a=4.5\n",
    "    b=a/0\n",
    "except Exception as e:\n",
    "    print(\"this is my except block\",e)"
   ]
  },
  {
   "cell_type": "code",
   "execution_count": 8,
   "id": "124beb8d-a23b-4e8f-a7f1-e9685bfbc424",
   "metadata": {},
   "outputs": [],
   "source": [
    "# over here we handled the error with exception, if we remove exception and do not handle it, then code after error will not be executed"
   ]
  },
  {
   "cell_type": "code",
   "execution_count": 10,
   "id": "35dfeaa8-8ed3-41d1-bf66-7bf8f067b9a1",
   "metadata": {},
   "outputs": [
    {
     "ename": "ZeroDivisionError",
     "evalue": "float division by zero",
     "output_type": "error",
     "traceback": [
      "\u001b[0;31m---------------------------------------------------------------------------\u001b[0m",
      "\u001b[0;31mZeroDivisionError\u001b[0m                         Traceback (most recent call last)",
      "Cell \u001b[0;32mIn[10], line 2\u001b[0m\n\u001b[1;32m      1\u001b[0m a\u001b[38;5;241m=\u001b[39m\u001b[38;5;241m4.5\u001b[39m\n\u001b[0;32m----> 2\u001b[0m b\u001b[38;5;241m=\u001b[39m\u001b[43ma\u001b[49m\u001b[38;5;241;43m/\u001b[39;49m\u001b[38;5;241;43m0\u001b[39;49m\n",
      "\u001b[0;31mZeroDivisionError\u001b[0m: float division by zero"
     ]
    }
   ],
   "source": [
    "a=4.5\n",
    "b=a/0"
   ]
  },
  {
   "cell_type": "code",
   "execution_count": 11,
   "id": "28704a7c-8f18-4fdf-b391-07b1d9890f8d",
   "metadata": {},
   "outputs": [],
   "source": [
    "# here we did not handle the exception thus the code ended abruptly"
   ]
  },
  {
   "cell_type": "markdown",
   "id": "a36a727b-15d5-4de0-b142-2176d4b808e8",
   "metadata": {},
   "source": [
    "### Q3. Which Python statements are used to catch and handle exceptions? Explain with an example."
   ]
  },
  {
   "cell_type": "code",
   "execution_count": 13,
   "id": "da5b6cdf-7249-479a-9468-6b5abb8332f7",
   "metadata": {},
   "outputs": [],
   "source": [
    "# in Python, we catch exceptions and handle them using try and except code blocks. \n",
    "# The try clause contains the code that can raise an exception, while the except clause contains the code lines that handle the exception.\n",
    "# example below"
   ]
  },
  {
   "cell_type": "code",
   "execution_count": 14,
   "id": "8d3da845-6448-4ea2-81a5-b38c705ad8fc",
   "metadata": {},
   "outputs": [
    {
     "name": "stdout",
     "output_type": "stream",
     "text": [
      "The index and element from the array is 0 Python\n",
      "The index and element from the array is 1 Exceptions\n",
      "The index and element from the array is 2 try and except\n",
      "Index out of range\n"
     ]
    }
   ],
   "source": [
    "a = [\"Python\", \"Exceptions\", \"try and except\"]  \n",
    "try:  \n",
    "    #looping through the elements of the array a, choosing a range that goes beyond the length of the array  \n",
    "     for i in range( 4 ):  \n",
    "        print( \"The index and element from the array is\", i, a[i] )  \n",
    "#if an error occurs in the try block, then except block will be executed by the Python interpreter       \n",
    "except:  \n",
    "    print (\"Index out of range\")  "
   ]
  },
  {
   "cell_type": "markdown",
   "id": "f34f7a0c-dc07-4b82-bf97-b1b8f69101cf",
   "metadata": {},
   "source": [
    "#### Q4. Explain with an example:\n",
    "#### 1)try and else\n",
    "#### 2)finall\n",
    "#### 3)raise "
   ]
  },
  {
   "cell_type": "code",
   "execution_count": 18,
   "id": "f29b45cb-7b73-4b20-b495-dc19fe61adc4",
   "metadata": {},
   "outputs": [],
   "source": [
    "# Try clause"
   ]
  },
  {
   "cell_type": "code",
   "execution_count": null,
   "id": "a9fecdbc-9647-4898-a779-4a23d794c349",
   "metadata": {},
   "outputs": [],
   "source": [
    "#Try: This block will test the excepted error to occur\n",
    "#Except:  Here you can handle the error"
   ]
  },
  {
   "cell_type": "code",
   "execution_count": 21,
   "id": "b1a30f2b-8f28-4924-8579-fdbaa5d07eff",
   "metadata": {},
   "outputs": [
    {
     "name": "stdout",
     "output_type": "stream",
     "text": [
      "Yeah ! Your answer is : 1\n",
      "we are doing exception handling\n",
      "Sorry ! You are dividing by zero \n",
      "we are doing exception handling\n"
     ]
    }
   ],
   "source": [
    "\n",
    "def divide(x, y):\n",
    "    try:\n",
    "        # Floor Division : Gives only Fractional\n",
    "        # Part as Answer\n",
    "        result = x // y\n",
    "    except ZeroDivisionError:\n",
    "        print(\"Sorry ! You are dividing by zero \")\n",
    "    else:\n",
    "        print(\"Yeah ! Your answer is :\", result)\n",
    "    finally:\n",
    "        print(\"we are doing exception handling\")\n",
    "   \n",
    "# Look at parameters and note the working of Program\n",
    "divide(3, 2)\n",
    "divide(3, 0)"
   ]
  },
  {
   "cell_type": "code",
   "execution_count": 16,
   "id": "58def423-134a-4854-8989-b140780d7254",
   "metadata": {},
   "outputs": [],
   "source": [
    "# Else Clause\n",
    "# The code enters the else block only if the try clause does not raise an exception.\n",
    "\n",
    "# Example: Else block will execute only when no exception occurs."
   ]
  },
  {
   "cell_type": "code",
   "execution_count": 19,
   "id": "4e0f6ef6-7979-470f-a4ac-2f058b2e6373",
   "metadata": {},
   "outputs": [
    {
     "name": "stdout",
     "output_type": "stream",
     "text": [
      "Yeah ! Your answer is : 1\n",
      "we are doing exception handling\n",
      "Sorry ! You are dividing by zero \n",
      "we are doing exception handling\n"
     ]
    }
   ],
   "source": [
    "# Python code to illustrate\n",
    "# working of try() \n",
    "def divide(x, y):\n",
    "    try:\n",
    "        # Floor Division : Gives only Fractional\n",
    "        # Part as Answer\n",
    "        result = x // y\n",
    "    except ZeroDivisionError:\n",
    "        print(\"Sorry ! You are dividing by zero \")\n",
    "    else:\n",
    "        print(\"Yeah ! Your answer is :\", result)\n",
    "    finally:\n",
    "        print(\"we are doing exception handling\")\n",
    "   \n",
    "# Look at parameters and note the working of Program\n",
    "divide(3, 2)\n",
    "divide(3, 0)"
   ]
  },
  {
   "cell_type": "code",
   "execution_count": 20,
   "id": "fee7794c-90eb-49d2-8775-daa751eb106c",
   "metadata": {},
   "outputs": [],
   "source": [
    "#Finally: Finally block always gets executed either exception is generated or not"
   ]
  },
  {
   "cell_type": "code",
   "execution_count": 22,
   "id": "a938e264-9dd8-4c46-ad66-68cb5981aa79",
   "metadata": {},
   "outputs": [
    {
     "name": "stdout",
     "output_type": "stream",
     "text": [
      "Yeah ! Your answer is : 1\n",
      "we are doing exception handling\n",
      "Sorry ! You are dividing by zero \n",
      "we are doing exception handling\n"
     ]
    }
   ],
   "source": [
    "def divide(x, y):\n",
    "    try:\n",
    "        # Floor Division : Gives only Fractional\n",
    "        # Part as Answer\n",
    "        result = x // y\n",
    "    except ZeroDivisionError:\n",
    "        print(\"Sorry ! You are dividing by zero \")\n",
    "    else:\n",
    "        print(\"Yeah ! Your answer is :\", result)\n",
    "    finally:\n",
    "        print(\"we are doing exception handling\")\n",
    "   \n",
    "# Look at parameters and note the working of Program\n",
    "divide(3, 2)\n",
    "divide(3, 0)"
   ]
  },
  {
   "cell_type": "code",
   "execution_count": 23,
   "id": "4ef08dd2-4709-4380-ac5a-64945d7ffa6a",
   "metadata": {},
   "outputs": [],
   "source": [
    "# raise keyword"
   ]
  },
  {
   "cell_type": "code",
   "execution_count": 25,
   "id": "a6f0dc08-d648-44b5-8ef7-4d27164b6971",
   "metadata": {},
   "outputs": [],
   "source": [
    "#The raise keyword is used to raise an exception.\n",
    "#You can define what kind of error to raise, and the text to print to the user.\n",
    "# example"
   ]
  },
  {
   "cell_type": "code",
   "execution_count": 26,
   "id": "10bd6c70-cb74-4854-b7cd-9af181ee2a23",
   "metadata": {},
   "outputs": [
    {
     "ename": "TypeError",
     "evalue": "Only integers are allowed",
     "output_type": "error",
     "traceback": [
      "\u001b[0;31m---------------------------------------------------------------------------\u001b[0m",
      "\u001b[0;31mTypeError\u001b[0m                                 Traceback (most recent call last)",
      "Cell \u001b[0;32mIn[26], line 4\u001b[0m\n\u001b[1;32m      1\u001b[0m x \u001b[38;5;241m=\u001b[39m \u001b[38;5;124m\"\u001b[39m\u001b[38;5;124mhello\u001b[39m\u001b[38;5;124m\"\u001b[39m\n\u001b[1;32m      3\u001b[0m \u001b[38;5;28;01mif\u001b[39;00m \u001b[38;5;129;01mnot\u001b[39;00m \u001b[38;5;28mtype\u001b[39m(x) \u001b[38;5;129;01mis\u001b[39;00m \u001b[38;5;28mint\u001b[39m:\n\u001b[0;32m----> 4\u001b[0m   \u001b[38;5;28;01mraise\u001b[39;00m \u001b[38;5;167;01mTypeError\u001b[39;00m(\u001b[38;5;124m\"\u001b[39m\u001b[38;5;124mOnly integers are allowed\u001b[39m\u001b[38;5;124m\"\u001b[39m)\n",
      "\u001b[0;31mTypeError\u001b[0m: Only integers are allowed"
     ]
    }
   ],
   "source": [
    "x = \"hello\"\n",
    "\n",
    "if not type(x) is int:\n",
    "  raise TypeError(\"Only integers are allowed\")"
   ]
  },
  {
   "cell_type": "code",
   "execution_count": 27,
   "id": "ba5afc6e-411c-428a-b08b-80f485c783e1",
   "metadata": {},
   "outputs": [
    {
     "ename": "Exception",
     "evalue": "Sorry, no numbers below zero",
     "output_type": "error",
     "traceback": [
      "\u001b[0;31m---------------------------------------------------------------------------\u001b[0m",
      "\u001b[0;31mException\u001b[0m                                 Traceback (most recent call last)",
      "Cell \u001b[0;32mIn[27], line 4\u001b[0m\n\u001b[1;32m      1\u001b[0m x \u001b[38;5;241m=\u001b[39m \u001b[38;5;241m-\u001b[39m\u001b[38;5;241m1\u001b[39m\n\u001b[1;32m      3\u001b[0m \u001b[38;5;28;01mif\u001b[39;00m x \u001b[38;5;241m<\u001b[39m \u001b[38;5;241m0\u001b[39m:\n\u001b[0;32m----> 4\u001b[0m   \u001b[38;5;28;01mraise\u001b[39;00m \u001b[38;5;167;01mException\u001b[39;00m(\u001b[38;5;124m\"\u001b[39m\u001b[38;5;124mSorry, no numbers below zero\u001b[39m\u001b[38;5;124m\"\u001b[39m)\n",
      "\u001b[0;31mException\u001b[0m: Sorry, no numbers below zero"
     ]
    }
   ],
   "source": [
    "x = -1\n",
    "\n",
    "if x < 0:\n",
    "  raise Exception(\"Sorry, no numbers below zero\")"
   ]
  },
  {
   "cell_type": "markdown",
   "id": "94caa952-0320-43f4-838a-012fa0b09c47",
   "metadata": {},
   "source": [
    "#### Q5. What are Custom Exceptions in python? Why do we need Custom Exceptions? Explain with an example."
   ]
  },
  {
   "cell_type": "code",
   "execution_count": null,
   "id": "bf23f33d-6bed-47ec-a4a5-b32aa21b4386",
   "metadata": {},
   "outputs": [],
   "source": [
    "# Exceptions need to be derived from the Exception class, either directly or indirectly. \n",
    "# Although not mandatory, most of the exceptions are named as names that end in “Error” similar to the naming of the standard exceptions in python. "
   ]
  },
  {
   "cell_type": "code",
   "execution_count": null,
   "id": "fdd678e2-e66c-46c2-bc18-705f0a19a4ae",
   "metadata": {},
   "outputs": [],
   "source": [
    "# In Python, we can define custom exceptions by creating a new class that is derived from the built-in Exception class.\n",
    "\n",
    "# Here's the syntax to define custom exceptions,\n",
    "\n",
    "# class CustomError(Exception):\n",
    "#     ...\n",
    "#     pass\n",
    "\n",
    "# try:\n",
    "#    ...\n",
    "\n",
    "# except CustomError:\n",
    "#     ...\n",
    "# Here, CustomError is a user-defined error which inherits from the Exception class."
   ]
  },
  {
   "cell_type": "code",
   "execution_count": 29,
   "id": "c151af89-9208-44da-b14c-54f6c4eab7e0",
   "metadata": {},
   "outputs": [
    {
     "name": "stdout",
     "output_type": "stream",
     "text": [
      "A New Exception occurred:  6\n"
     ]
    }
   ],
   "source": [
    "class MyError(Exception):\n",
    " \n",
    "    # Constructor or Initializer\n",
    "    def __init__(self, value):\n",
    "        self.value = value\n",
    " \n",
    "    # __str__ is to print() the value\n",
    "    def __str__(self):\n",
    "        return(repr(self.value))\n",
    " \n",
    " \n",
    "try:\n",
    "    raise(MyError(3*2))\n",
    " \n",
    "# Value of Exception is stored in error\n",
    "except MyError as error:\n",
    "    print('A New Exception occurred: ', error.value)"
   ]
  },
  {
   "cell_type": "markdown",
   "id": "f0b7ae01-639d-4a32-b86b-96c4b467e58c",
   "metadata": {},
   "source": [
    "#### Q6. Create a custom exception class. Use this class to handle an exception."
   ]
  },
  {
   "cell_type": "code",
   "execution_count": 31,
   "id": "24c121a1-2ccf-4c56-ad87-2b66a36bd7ab",
   "metadata": {},
   "outputs": [
    {
     "name": "stdin",
     "output_type": "stream",
     "text": [
      "Enter a number:  23\n"
     ]
    },
    {
     "name": "stdout",
     "output_type": "stream",
     "text": [
      "Eligible to Vote\n"
     ]
    }
   ],
   "source": [
    "# define Python user-defined exceptions\n",
    "class InvalidAgeException(Exception):\n",
    "    \"Raised when the input value is less than 18\"\n",
    "    pass\n",
    "\n",
    "# you need to guess this number\n",
    "number = 18\n",
    "\n",
    "try:\n",
    "    input_num = int(input(\"Enter a number: \"))\n",
    "    if input_num < number:\n",
    "        raise InvalidAgeException\n",
    "    else:\n",
    "        print(\"Eligible to Vote\")\n",
    "        \n",
    "except InvalidAgeException:\n",
    "    print(\"Exception occurred: Invalid Age\")"
   ]
  },
  {
   "cell_type": "code",
   "execution_count": null,
   "id": "ee4c0aec-e77c-480f-b3f9-ee29dc3d2f97",
   "metadata": {},
   "outputs": [],
   "source": []
  }
 ],
 "metadata": {
  "kernelspec": {
   "display_name": "Python 3 (ipykernel)",
   "language": "python",
   "name": "python3"
  },
  "language_info": {
   "codemirror_mode": {
    "name": "ipython",
    "version": 3
   },
   "file_extension": ".py",
   "mimetype": "text/x-python",
   "name": "python",
   "nbconvert_exporter": "python",
   "pygments_lexer": "ipython3",
   "version": "3.10.8"
  }
 },
 "nbformat": 4,
 "nbformat_minor": 5
}
