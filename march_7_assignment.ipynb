{
 "cells": [
  {
   "cell_type": "markdown",
   "id": "6930605e-81d1-4532-8183-95a9de0c8ade",
   "metadata": {},
   "source": [
    "# MARCH 7 ASSIGMENT"
   ]
  },
  {
   "cell_type": "markdown",
   "id": "fdb23bc2-2235-47e1-86ef-76aff9c83ac7",
   "metadata": {},
   "source": [
    "### Q1. What are the three measures of central tendency?"
   ]
  },
  {
   "cell_type": "code",
   "execution_count": 1,
   "id": "8cae54a7-471b-49d8-8734-6bd93313389b",
   "metadata": {},
   "outputs": [],
   "source": [
    "#The three measures of central tendency are:\n",
    "\n",
    "#Mean: The mean is the arithmetic average of a set of data. \n",
    "#To calculate the mean, you add up all the values in the data set and divide by the number of values.\n",
    "\n",
    "#Median: The median is the middle value in a set of data when the data is arranged in order. \n",
    "#To find the median, you list the data in order from smallest to largest and identify the middle value.\n",
    "\n",
    "#Mode: The mode is the value that appears most frequently in a set of data.\n",
    "#If there is no value that appears more than any other, the data set is said to have no mode."
   ]
  },
  {
   "cell_type": "markdown",
   "id": "ff2f5bd5-5511-493e-8d02-18ed2749f9a6",
   "metadata": {},
   "source": [
    "### Q2. What is the difference between the mean, median, and mode? How are they used to measure the central tendency of a dataset?"
   ]
  },
  {
   "cell_type": "code",
   "execution_count": 2,
   "id": "ed69780c-48ca-4c97-84ec-2bfc338f5d03",
   "metadata": {},
   "outputs": [],
   "source": [
    "#The mean, median, and mode are all measures of central tendency that provide information about the typical value or the center of a data set. The main differences between these measures are:\n",
    "\n",
    "#Mean: The mean is the average of a set of data. \n",
    "#It is calculated by adding up all the values in the data set and dividing by the number of values.\n",
    "#The mean is sensitive to outliers, which means that extreme values in the data set can have a significant impact on the value of the mean.\n",
    "#The mean is commonly used to measure central tendency when the data is normally distributed or symmetrical.\n",
    "\n",
    "#Median: The median is the middle value in a set of data when the data is arranged in order.\n",
    "#It is not affected by extreme values or outliers, making it a more robust measure of central tendency than the mean.\n",
    "#The median is commonly used to measure central tendency when the data is skewed or has outliers.\n",
    "\n",
    "#Mode: The mode is the value that occurs most frequently in a set of data. \n",
    "#It is not affected by extreme values or outliers, but it may not exist or be unique in some cases. \n",
    "#The mode is commonly used to measure central tendency for categorical or discrete data.\n",
    "\n",
    "#In general, the choice of which measure of central tendency to use depends on the nature of the data set and the research question. \n",
    "#Mean is typically used for interval or ratio data, while median is used for ordinal or skewed data, and mode is used for nominal or discrete data.\n",
    "#However, it is important to keep in mind that each measure has its own strengths and weaknesses, and it is often useful to consider more than one measure of central tendency when interpreting a data set."
   ]
  },
  {
   "cell_type": "markdown",
   "id": "8ca29e9a-033a-46be-89fe-957990ee053c",
   "metadata": {},
   "source": [
    "### Q3. Measure the three measures of central tendency for the given height data:\n",
    "### [178,177,176,177,178.2,178,175,179,180,175,178.9,176.2,177,172.5,178,176.5]"
   ]
  },
  {
   "cell_type": "code",
   "execution_count": 14,
   "id": "cd0a4286-99f5-415c-9d22-d4f39b1676c1",
   "metadata": {},
   "outputs": [
    {
     "name": "stdout",
     "output_type": "stream",
     "text": [
      "[172.5, 175, 175, 176, 176.2, 176.5, 177, 177, 177, 178, 178, 178, 178.2, 178.9, 179, 180]\n",
      "mean = 177.01875\n",
      "median = 177.0\n",
      "mode = ModeResult(mode=array([177.]), count=array([3]))\n"
     ]
    },
    {
     "name": "stderr",
     "output_type": "stream",
     "text": [
      "/tmp/ipykernel_2510/3685967354.py:9: FutureWarning: Unlike other reduction functions (e.g. `skew`, `kurtosis`), the default behavior of `mode` typically preserves the axis it acts along. In SciPy 1.11.0, this behavior will change: the default value of `keepdims` will become False, the `axis` over which the statistic is taken will be eliminated, and the value None will no longer be accepted. Set `keepdims` to True or False to avoid this warning.\n",
      "  print(\"mode =\",stats.mode(l))\n"
     ]
    }
   ],
   "source": [
    "import numpy as np\n",
    "from scipy import stats\n",
    "\n",
    "l=[178,177,176,177,178.2,178,175,179,180,175,178.9,176.2,177,172.5,178,176.5]\n",
    "l.sort()\n",
    "print(l)\n",
    "print(\"mean =\",np.mean(l))\n",
    "print(\"median =\",np.median(l))\n",
    "print(\"mode =\",stats.mode(l))"
   ]
  },
  {
   "cell_type": "markdown",
   "id": "baf8f28d-0724-47ba-8e0a-b62500372528",
   "metadata": {},
   "source": [
    "### Q4. Find the standard deviation for the given data:\n",
    "### [178,177,176,177,178.2,178,175,179,180,175,178.9,176.2,177,172.5,178,176.5]"
   ]
  },
  {
   "cell_type": "code",
   "execution_count": 18,
   "id": "95453d3f-eb78-4657-b07e-8cc86e973ad7",
   "metadata": {},
   "outputs": [
    {
     "name": "stdout",
     "output_type": "stream",
     "text": [
      "varience of list l =  3.199023437500001\n",
      "standard deviation of list l =  1.7885814036548633\n"
     ]
    }
   ],
   "source": [
    "l=[178,177,176,177,178.2,178,175,179,180,175,178.9,176.2,177,172.5,178,176.5]\n",
    "print(\"varience of list l = \",np.var(l))\n",
    "print(\"standard deviation of list l = \",np.std(l))"
   ]
  },
  {
   "cell_type": "markdown",
   "id": "cab62056-d209-4ed7-bd1e-ee3bb5dd8f62",
   "metadata": {},
   "source": [
    "### Q5. How are measures of dispersion such as range, variance, and standard deviation used to describe the spread of a dataset? Provide an example."
   ]
  },
  {
   "cell_type": "code",
   "execution_count": null,
   "id": "612cca61-e576-4ec2-8b6d-5b72b784013c",
   "metadata": {},
   "outputs": [],
   "source": [
    "# Measures of dispersion, such as range, variance, and standard deviation, provide information about the spread or variability of a data set.\n",
    "\n",
    "# Range: The range is the difference between the highest and lowest values in a data set. \n",
    "# It provides a quick and easy way to assess the spread of a data set, but it is sensitive to outliers and may not provide a complete picture of the variability of the data. \n",
    "# For example, if the scores on a test range from 60 to 90, the range of the data set is 30.\n",
    "\n",
    "# Variance: The variance is the average of the squared differences between each data point and the mean.\n",
    "# It measures how much the data values deviate from the mean.\n",
    "# A higher variance indicates that the data points are more spread out, while a lower variance indicates that they are more tightly clustered around the mean. \n",
    "# For example, if the test scores have a variance of 25, it means that the average squared distance from the mean is 25.\n",
    "\n",
    "# Standard Deviation: The standard deviation is the square root of the variance. \n",
    "# It provides a measure of the typical distance between each data point and the mean. \n",
    "# A higher standard deviation indicates that the data points are more spread out,\n",
    "# while a lower standard deviation indicates that they are more tightly clustered around the mean.\n",
    "# For example, if the test scores have a standard deviation of 5, it means that the typical distance from the mean is 5.\n",
    "# \n",
    "# In general, the choice of which measure of dispersion to use depends on the nature of the data set and the research question.\n",
    "# Range is typically used as a quick and simple way to assess the spread of the data,\n",
    "# while variance and standard deviation provide a more detailed and precise measure of variability.\n",
    "# For example, if we want to compare the variability of test scores between two different classes, \n",
    "# we might calculate the variance and standard deviation of the scores in each class and compare them to see which class has more consistent scores."
   ]
  },
  {
   "cell_type": "markdown",
   "id": "bd179cbe-540b-429a-9f1b-840fa795d9bb",
   "metadata": {},
   "source": [
    "### Q6. What is a Venn diagram?"
   ]
  },
  {
   "cell_type": "code",
   "execution_count": null,
   "id": "029af2d5-32fd-4dc6-b184-6edda44fedea",
   "metadata": {},
   "outputs": [],
   "source": [
    "# A Venn diagram is a visual representation of the relationships between different sets or groups of objects, numbers, or ideas. \n",
    "# It consists of overlapping circles, each representing a set or group, with the elements that belong to each set or group shown in the corresponding circle(s).\n",
    "# \n",
    "# The areas where the circles overlap represent the elements that belong to more than one set or group.\n",
    "# The size of each circle and the degree of overlap between the circles can be used to represent the relative sizes of the sets or groups and their intersections.\n",
    "# \n",
    "# Venn diagrams are often used in mathematics, logic, and statistics to illustrate set relationships and to solve problems involving set operations such as union, intersection, and complement. \n",
    "# They can also be used in other fields such as science, business, and education to visualize complex data and concepts.\n",
    "# \n",
    "# Overall, Venn diagrams are a powerful and intuitive tool for organizing and visualizing information, making it easier to understand and communicate complex relationships and patterns."
   ]
  },
  {
   "cell_type": "markdown",
   "id": "9ed350b9-bd2d-43f0-b8a1-432c0d3262a2",
   "metadata": {},
   "source": [
    "### Q7. For the two given sets A = (2,3,4,5,6,7) & B = (0,2,6,8,10). Find:\n",
    "### (i) A intersection B\n",
    "### (ii) A ⋃ B"
   ]
  },
  {
   "cell_type": "code",
   "execution_count": 22,
   "id": "67949fde-123b-4706-995c-bc7f9b129f17",
   "metadata": {},
   "outputs": [
    {
     "name": "stdout",
     "output_type": "stream",
     "text": [
      "union of a and b is=  {0, 2, 3, 4, 5, 6, 7, 8, 10}\n",
      "intersection of a and b is=  {2, 6}\n"
     ]
    }
   ],
   "source": [
    "A = {2,3,4,5,6,7} \n",
    "B = {0,2,6,8,10}\n",
    "print(\"union of a and b is= \",A.union(B))\n",
    "print(\"intersection of a and b is= \",A.intersection(B))"
   ]
  },
  {
   "cell_type": "markdown",
   "id": "ef674a9a-3d03-4622-98ab-e03b5f339ec9",
   "metadata": {},
   "source": [
    "### Q8. What do you understand about skewness in data?"
   ]
  },
  {
   "cell_type": "code",
   "execution_count": null,
   "id": "2be234fd-2fa2-4628-882f-5272ef2f1539",
   "metadata": {},
   "outputs": [],
   "source": [
    "# Skewness is a measure of the asymmetry of a distribution of data.\n",
    "# A distribution is said to be skewed if it is not symmetrical, meaning that one tail of the distribution is longer or stretched out than the other.\n",
    "# In other words, the distribution has more values on one side than on the other.\n",
    "# \n",
    "# Skewness is commonly measured using the skewness coefficient or skewness index.\n",
    "# The skewness coefficient can be positive or negative, depending on the direction of the skewness.\n",
    "# If the coefficient is positive, the distribution is said to be positively skewed, \n",
    "# meaning that it has a long tail on the right side and most of the values are concentrated on the left side. \n",
    "# If the coefficient is negative, the distribution is said to be negatively skewed,\n",
    "# meaning that it has a long tail on the left side and most of the values are concentrated on the right side. \n",
    "# A skewness coefficient of zero indicates that the distribution is symmetrical.\n",
    "# \n",
    "# Skewness is important to consider because it can affect the interpretation of statistical analyses and the choice of appropriate statistical methods.\n",
    "# For example, if a distribution is skewed, the mean may not be a good measure of central tendency,\n",
    "# and other measures such as the median or mode may be more appropriate.\n",
    "# Similarly, if a distribution is skewed, certain statistical tests and models that assume a normal distribution may not be appropriate,\n",
    "# and alternative methods may need to be used.\n",
    "# \n",
    "# Overall, skewness is an important aspect of data analysis,\n",
    "# and understanding its implications is crucial for making accurate and meaningful interpretations of data."
   ]
  },
  {
   "cell_type": "markdown",
   "id": "87daed5b-79b6-4776-aaaa-10093f70f83a",
   "metadata": {},
   "source": [
    "### Q9. If a data is right skewed then what will be the position of median with respect to mean?"
   ]
  },
  {
   "cell_type": "code",
   "execution_count": null,
   "id": "03b84db0-0e44-4d44-8536-55d3b086f81b",
   "metadata": {},
   "outputs": [],
   "source": [
    "# If a data is right skewed, the position of the median with respect to the mean will be to the left of the mean.\n",
    "# This is because the mean is sensitive to outliers and extreme values, while the median is not. \n",
    "# In a right-skewed distribution, the tail of the distribution is stretched out to the right,\n",
    "# which means that there are a few extreme values on the right side that are pulling the mean to the right.\n",
    "# On the other hand, the median is the value that divides the data into two equal halves, which means that it is not affected by extreme values on either side.\n",
    "# \n",
    "# In general, the degree of skewness and the position of the median with respect to the mean depend on the specific data set and the distribution of the data. \n",
    "# However, in a right-skewed distribution, the median is likely to be less than the mean, \n",
    "# indicating that the data is concentrated on the left side and there are a few extreme values on the right side that are pulling the mean to the right."
   ]
  },
  {
   "cell_type": "markdown",
   "id": "7753f07b-cd32-442d-9667-35716266e2ba",
   "metadata": {},
   "source": [
    "### Q10. Explain the difference between covariance and correlation. How are these measures used in statistical analysis?"
   ]
  },
  {
   "cell_type": "code",
   "execution_count": 23,
   "id": "e8d81311-1aee-4f90-89e8-b6a8280291f1",
   "metadata": {},
   "outputs": [],
   "source": [
    "# Covariance and correlation are both measures of the relationship between two variables, but they differ in their interpretation and properties.\n",
    "# \n",
    "# Covariance is a measure of how two variables vary together. \n",
    "# Specifically, it measures the degree to which the deviations of the two variables from their respective means are correlated.\n",
    "# If the covariance is positive, it indicates that the two variables tend to move in the same direction, whereas if it is negative,\n",
    "# it indicates that they tend to move in opposite directions. \n",
    "# However, covariance does not have a standardized scale, so it is difficult to compare the strength of the relationship between different pairs of variables.\n",
    "# \n",
    "# Correlation, on the other hand, is a standardized measure of the relationship between two variables.\n",
    "# It measures the degree to which the two variables are linearly related, \n",
    "# and it ranges from -1 (perfect negative correlation) to 1 (perfect positive correlation), with 0 indicating no correlation. \n",
    "# Correlation is a more useful measure than covariance because it allows us to compare the strength of the relationship between different pairs of variables,\n",
    "# regardless of their units of measurement.\n",
    "# \n",
    "# Both covariance and correlation are used in statistical analysis to examine the relationship between two variables.\n",
    "# They can be used to identify whether two variables are related and the direction and strength of their relationship.\n",
    "# They are often used in regression analysis, which is a statistical technique used to predict the value of one variable based on the values of other variables.\n",
    "# \n",
    "# However, correlation is often preferred over covariance because it provides a more meaningful and interpretable measure of the relationship between two variables,\n",
    "# and it allows for easier comparisons between different pairs of variables. \n",
    "# In addition, correlation is more resistant to the influence of outliers, whereas covariance is not."
   ]
  },
  {
   "cell_type": "markdown",
   "id": "34ee5d26-d2c6-402d-b7ad-b7bc8e0c209e",
   "metadata": {},
   "source": [
    "### Q11. What is the formula for calculating the sample mean? Provide an example calculation for a dataset."
   ]
  },
  {
   "cell_type": "code",
   "execution_count": 24,
   "id": "c368636c-8631-4bd9-8ccb-d23568277ce9",
   "metadata": {},
   "outputs": [],
   "source": [
    "# The formula for calculating the sample mean is:\n",
    "# \n",
    "# sample mean = (sum of all values in the sample) / (number of values in the sample)\n",
    "# \n",
    "# In symbols, this can be expressed as:\n",
    "# \n",
    "# x̄ = (∑x) / n\n",
    "# \n",
    "# where x̄ is the sample mean, ∑x is the sum of all values in the sample, and n is the number of values in the sample.\n",
    "# \n",
    "# Here's an example calculation for a dataset:\n",
    "# \n",
    "# Suppose we have the following dataset of 6 observations: 4, 7, 9, 2, 6, 5.\n",
    "# \n",
    "# To calculate the sample mean, we first need to add up all the values in the sample:\n",
    "# \n",
    "# 4 + 7 + 9 + 2 + 6 + 5 = 33\n",
    "# \n",
    "# Next, we divide the sum by the number of values in the sample:\n",
    "# \n",
    "# 33 / 6 = 5.5\n",
    "# \n",
    "# Therefore, the sample mean of the dataset is 5.5."
   ]
  },
  {
   "cell_type": "markdown",
   "id": "f8a66d4b-488b-4d89-a194-a9405d4e45a6",
   "metadata": {},
   "source": [
    "### Q12. For a normal distribution data what is the relationship between its measure of central tendency?"
   ]
  },
  {
   "cell_type": "code",
   "execution_count": 25,
   "id": "ae127e13-ab56-40b8-b53b-44f5c0a35875",
   "metadata": {},
   "outputs": [],
   "source": [
    "# For a normal distribution, the mean, median, and mode are all equal.\n",
    "# This is because a normal distribution is symmetric around its mean, and the mean is the balance point of the distribution.\n",
    "# As a result, the median, which is the middle value of the distribution, and the mode,\n",
    "# which is the most frequently occurring value in the distribution, are also located at the same point as the mean.\n",
    "# \n",
    "# This property of normal distributions is a result of their bell-shaped curve, which has a smooth and symmetric shape.\n",
    "# In a normal distribution, the majority of the data is concentrated around the mean, with fewer observations in the tails of the distribution. \n",
    "# This results in the mean, median, and mode all being equal and located at the center of the distribution.\n",
    "# \n",
    "# It is important to note that this relationship may not hold true for other types of distributions\n",
    "# where the mean, median, and mode may not be equal or located in the same position.\n",
    "# However, for normal distributions, this relationship is a fundamental property and is often used in statistical analysis and modeling."
   ]
  },
  {
   "cell_type": "markdown",
   "id": "05fc90ac-daeb-40c0-83fd-23193a807d02",
   "metadata": {},
   "source": [
    "### Q13. How is covariance different from correlation?"
   ]
  },
  {
   "cell_type": "code",
   "execution_count": 26,
   "id": "e99fb49c-6aef-42bc-9160-258153e01a32",
   "metadata": {},
   "outputs": [],
   "source": [
    "# Covariance and correlation are both measures of the relationship between two variables, but they differ in their interpretation and properties.\n",
    "# \n",
    "# Covariance measures the degree to which the deviations of two variables from their respective means are correlated. \n",
    "# Specifically, it measures how much two variables vary together.\n",
    "# A positive covariance indicates that the two variables tend to move in the same direction,\n",
    "# while a negative covariance indicates that they tend to move in opposite directions.\n",
    "# However, covariance does not have a standardized scale, so it is difficult to compare the strength of the relationship between different pairs of variables.\n",
    "# \n",
    "# Correlation, on the other hand, measures the strength and direction of the linear relationship between two variables.\n",
    "# It is a standardized measure, which ranges from -1 (perfect negative correlation) to 1 (perfect positive correlation), with 0 indicating no correlation. \n",
    "# Unlike covariance, correlation is unaffected by the change of scale or units of measurement and is easier to interpret.\n",
    "# \n",
    "# The main differences between covariance and correlation are:\n",
    "# \n",
    "# Scale: Covariance does not have a standardized scale, while correlation is standardized between -1 and 1.\n",
    "# \n",
    "# Interpretation: Covariance measures the direction of the relationship between two variables, while correlation measures both the direction and strength of the relationship.\n",
    "# \n",
    "# Units of measurement: Covariance is affected by the change of scale or units of measurement, while correlation is not.\n",
    "\n",
    "# In statistical analysis, correlation is often preferred over covariance because it provides a more interpretable and meaningful measure of the relationship between two variables, and it allows for easier comparisons between different pairs of variables.\n",
    "# However, covariance is still used in some situations, such as in the calculation of coefficients in linear regression models."
   ]
  },
  {
   "cell_type": "markdown",
   "id": "39e463fc-4b5a-49c5-8b2e-8696e28fd07c",
   "metadata": {},
   "source": [
    "### Q14. How do outliers affect measures of central tendency and dispersion? Provide an example."
   ]
  },
  {
   "cell_type": "code",
   "execution_count": null,
   "id": "0adb7f41-c08f-4434-90ea-9b5de2895c3d",
   "metadata": {},
   "outputs": [],
   "source": [
    "# Outliers can have a significant impact on measures of central tendency and dispersion, and may cause them to be misleading or inaccurate.\n",
    "# \n",
    "# For measures of central tendency such as the mean and median, outliers can pull the value towards the extreme end of the data.\n",
    "# For example, if we have a dataset of exam scores for a class of students, and one student scored significantly higher or lower than the rest of the class, \n",
    "# the mean and median scores may be skewed by the outlier.\n",
    "# \n",
    "# For measures of dispersion such as the range, variance, and standard deviation,\n",
    "# outliers can cause them to be larger or smaller than they would be if the outliers were not present.\n",
    "# For example, if we have a dataset of salaries for employees in a company, and one executive earns a salary that is much higher than the rest of the employees,\n",
    "# the range and variance of the salaries may be inflated by the outlier.\n",
    "# \n",
    "# Here's an example:\n",
    "# \n",
    "# Suppose we have the following dataset of 10 ages: 20, 22, 24, 26, 28, 30, 32, 34, 36, and 50.\n",
    "# \n",
    "# The mean age of the dataset is (20+22+24+26+28+30+32+34+36+50)/10 = 30 years. The median age is the middle value, which is also 30.\n",
    "# \n",
    "# Now, suppose we add an outlier to the dataset, such as an age of 100. The new dataset would be: 20, 22, 24, 26, 28, 30, 32, 34, 36, 50, 100.\n",
    "# \n",
    "# The mean age of the dataset with the outlier is now (20+22+24+26+28+30+32+34+36+50+100)/11 = 39.5 years.\n",
    "# This is significantly higher than the original mean of 30 years, and does not represent the typical age of the group.\n",
    "# \n",
    "# Similarly, the standard deviation of the dataset with the outlier is larger than the original dataset, indicating a greater spread of ages. \n",
    "# This is because the outlier is far away from the rest of the data, and pulls the standard deviation upwards."
   ]
  }
 ],
 "metadata": {
  "kernelspec": {
   "display_name": "Python 3 (ipykernel)",
   "language": "python",
   "name": "python3"
  },
  "language_info": {
   "codemirror_mode": {
    "name": "ipython",
    "version": 3
   },
   "file_extension": ".py",
   "mimetype": "text/x-python",
   "name": "python",
   "nbconvert_exporter": "python",
   "pygments_lexer": "ipython3",
   "version": "3.10.8"
  }
 },
 "nbformat": 4,
 "nbformat_minor": 5
}
